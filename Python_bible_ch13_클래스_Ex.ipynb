{
 "cells": [
  {
   "cell_type": "code",
   "execution_count": 3,
   "metadata": {
    "collapsed": false
   },
   "outputs": [],
   "source": [
    "#1 \n",
    "\n",
    "\n",
    "# 클래스를 이용하면, 코드의 생산성을 높일 수 있음. 연관된 변수와 함수를 묶어서 관리하기 편함\n",
    "\n",
    "#2\n",
    "# 클래스는 파일 속에 하나의 이름공간을 새로 만드는 것. 모듈은 모듈 파일 하나가 하나의 이름 공간임.\n",
    "\n",
    "#3 \n",
    "# 클래스 : 멤버와 메서드를 가지고 있는 이름 공간 \n",
    "# 인스턴스 : 생성된 클래스의 속성을 가지는 한 객체\n",
    "# 멤버 : 클래스 또는 인스턴스가 가지는 변수\n",
    "# 메서드 : 클래스 또는 인스턴스가 가지는 함수\n",
    "# 상위 클r래스 : 하위 클래스의 기반이 되는 클래스\n",
    "# 하위 클래스 : 상위 클래스를 기반으로 만들어진 클래스\n",
    "\n",
    "#4\n",
    "# 인스턴스 멤버는 각각의 인스턴스 객체만이 가지고 있는 멤버. 다른 인스턴스와 독립적.\n",
    "# 클래스 멤버는 그 클래스 안의 모든 인스턴스 들이 공유할 수 있는 멤버\n",
    "\n",
    "\n",
    "#1 해답\n",
    "# 1. 변수와 그것을 조작하는 관련 함수를 하나의 공간으로 묶어서 단위로 구성하기 때문에 (새로운 자료형과 같은)\n",
    "# 포장된 하나의 단위를 만드는 것과 같다.\n",
    "# 2. 데이터를 조작할 수 잇는 적절한 인터페이스를 제공하여 사용자에게 편의성을 제공할 수 있다. (encapsulation)\n",
    "# 3. 인스턴스 객체들은 별도의 이름공간을 가지게 되므로 독립적인 공간에서 작업이 가능하다.\n",
    "# 4. 클래스 객체들은 인스턴스 객체들이 공유하는 이름 공간을 제공하므로 인스턴스 객체들의 자료 공유가 가능하다.\n",
    "# 5. 클래스 상속을 이용하면 약간의 변형을 필요로 하는 새로운 클래스를 쉽게 작성할 수 있다.\n",
    "# 6. 연산자 중복을 이용하면 내장 자료형과 같은 모든 편리한 연산을 구현할 수 있다.\n",
    "\n",
    "#2 해답\n",
    "# 1. 모듈은 한번 가져오기(import)되면 다른 모듈과 공유되므로 단 한개만의 이름 공간을 가진다.\n",
    "# 2. 클래스는 인스턴스 생성을 통하여 얼마든지 이름공간을 갖는 객체를 많이 가질 수 있다.\n",
    "# 3. 클래스와 인스턴스들은 계층적인 관계를 맺고 있으며 이름 공간들은 수직으로 공유된다.\n",
    "# 4. 모듈은 단한개의 클래스 인스턴스와 유사하다."
   ]
  },
  {
   "cell_type": "code",
   "execution_count": 4,
   "metadata": {
    "collapsed": false
   },
   "outputs": [
    {
     "data": {
      "text/plain": [
       "'egg'"
      ]
     },
     "execution_count": 4,
     "metadata": {},
     "output_type": "execute_result"
    }
   ],
   "source": [
    "#5 언바운드 클래스 메서드 : 클래스 메서드에 접근 할때, 클레스를 통해서 하면 인스턴스 객체 넘겨줘야함\n",
    "#   바운드 클래스 메서드 : 인스턴스 메서드로 접근하면, 인스턴스 객체 넘겨주지 않아도 됨.\n",
    "\n",
    "class Myclass:\n",
    "    def set(self, v): #메서드의 첫 인수 self는 반드시 인스턴스 객체여야 한다.\n",
    "        self.value = v\n",
    "    def get(self):\n",
    "        return self.value\n",
    "\n",
    "c = Myclass()\n",
    "Myclass.set(c, 'egg') # 클래스틀 통해서 메서드에 접근하기 때문에 구체적인 인스턴스 지정해줘야함. 사람인데, 누구??의 메서드?\n",
    "c.get()\n",
    "\n",
    "c= Myclass()\n",
    "c.set('egg') # 인스턴스를 통해서 메서드에 접근하면 인스턴스 인수 넘기는 거 생략. 유한이의 메서드! 바로 이렇게 말하는 것이니까.\n",
    "\n",
    "\n",
    "\n",
    "        "
   ]
  },
  {
   "cell_type": "code",
   "execution_count": 14,
   "metadata": {
    "collapsed": false
   },
   "outputs": [
    {
     "name": "stdout",
     "output_type": "stream",
     "text": [
      "5\n",
      "1\n"
     ]
    }
   ],
   "source": [
    "class B:\n",
    "    b = 2\n",
    "class C(B):\n",
    "    a = 1\n",
    "    def f(self):\n",
    "        self.a = 5\n",
    "c1 = C()\n",
    "c2 = C()\n",
    "c1.f()\n",
    "print(c1.a)\n",
    "print(c2.a)\n"
   ]
  },
  {
   "cell_type": "raw",
   "metadata": {
    "collapsed": false
   },
   "source": [
    "%%javascript\n",
    "\n",
    "Jupyter.keyboard_manager.command_shortcuts.add_shortcut('r', function (event) {\n",
    "    IPython.notebook.execute_cell();\n",
    "    \n",
    "    return false;\n",
    "});\n",
    "\n",
    "Jupyter.keyboard_manager.command_shortcuts.remove_shortcut('r');\n",
    "\n",
    "\n"
   ]
  },
  {
   "cell_type": "code",
   "execution_count": 17,
   "metadata": {
    "collapsed": false
   },
   "outputs": [
    {
     "name": "stdout",
     "output_type": "stream",
     "text": [
      "Birthday Fri Oct 21 07:40:28 2016\n"
     ]
    }
   ],
   "source": [
    "# 7 클래스 LifeSpan\n",
    "from time import time, ctime, sleep\n",
    "class LifeSpan:\n",
    "    def __init__(self):\n",
    "        self.birth = ctime()\n",
    "        print('Birthday', self.birth)\n",
    "    def __del__(self):\n",
    "        print('Deathday', ctime())\n",
    "        \n",
    "life = LifeSpan()\n",
    "\n",
    "\n"
   ]
  },
  {
   "cell_type": "code",
   "execution_count": 18,
   "metadata": {
    "collapsed": false
   },
   "outputs": [
    {
     "name": "stdout",
     "output_type": "stream",
     "text": [
      "Deathday Fri Oct 21 07:40:36 2016\n"
     ]
    }
   ],
   "source": [
    "del life\n"
   ]
  },
  {
   "cell_type": "code",
   "execution_count": 21,
   "metadata": {
    "collapsed": false
   },
   "outputs": [
    {
     "name": "stdout",
     "output_type": "stream",
     "text": [
      "30 4.0\n",
      "40 8.0\n"
     ]
    }
   ],
   "source": [
    "# 7 클래스 Turtle\n",
    "class Turtle:\n",
    "    def __init__(self, initAngle, initPosition):\n",
    "        self.angle = initAngle\n",
    "        self.position = float(initPosition)\n",
    "    def turn(self, angle):\n",
    "        self.angle += angle\n",
    "    def forward(self, distance):\n",
    "        self.position +=float(distance)\n",
    "        \n",
    "            \n",
    "T1 = Turtle(30, 4)\n",
    "print(T1.angle, T1.position)\n",
    "T1.turn(10)\n",
    "T1.forward(4)\n",
    "print(T1.angle, T1.position)\n",
    "\n"
   ]
  }
 ],
 "metadata": {
  "kernelspec": {
   "display_name": "Python 3",
   "language": "python",
   "name": "python3"
  },
  "language_info": {
   "codemirror_mode": {
    "name": "ipython",
    "version": 3
   },
   "file_extension": ".py",
   "mimetype": "text/x-python",
   "name": "python",
   "nbconvert_exporter": "python",
   "pygments_lexer": "ipython3",
   "version": "3.5.2"
  }
 },
 "nbformat": 4,
 "nbformat_minor": 1
}
