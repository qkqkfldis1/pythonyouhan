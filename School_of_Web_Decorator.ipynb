{
 "cells": [
  {
   "cell_type": "code",
   "execution_count": 2,
   "metadata": {
    "collapsed": false
   },
   "outputs": [
    {
     "name": "stdout",
     "output_type": "stream",
     "text": [
      "Hi\n",
      "Bye\n"
     ]
    }
   ],
   "source": [
    "def outer_function(msg):\n",
    "    def inner_function():\n",
    "        print(msg)\n",
    "    return inner_function\n",
    "\n",
    "hi_func = outer_function('Hi')\n",
    "bye_func = outer_function('Bye')\n",
    "\n",
    "hi_func()\n",
    "bye_func()\n",
    "\n",
    "# 위의 코드는 클로저 코드. 데코레이터 코드도 위의 코드와 아주 비슷. 다만 함수를 다른 함수의 인자로 전달한다는 점이 조금 다름"
   ]
  },
  {
   "cell_type": "code",
   "execution_count": 3,
   "metadata": {
    "collapsed": false
   },
   "outputs": [
    {
     "name": "stdout",
     "output_type": "stream",
     "text": [
      "display 함수가 실행됬습니다.\n"
     ]
    }
   ],
   "source": [
    "def decorator_function(original_function): #1\n",
    "    def wrapper_function(): #5\n",
    "        return original_function() #7\n",
    "    return wrapper_function #6\n",
    "\n",
    "def display(): #2\n",
    "    print('display 함수가 실행됬습니다.') #8\n",
    "    \n",
    "decorated_display = decorator_function(display) #3\n",
    "\n",
    "decorated_display() #4\n",
    "\n",
    "# 데코레이터 함수인 decoratorfunction 과 일반 함수인 display 를 #1과 #2에서 정의\n",
    "# #3에서 decorated_display 라는 변수에 display 함수를 인자로 가진 decorateor_function을 실행한 후 리턴값을 할당.\n",
    "# 이 리턴 값은 wrapper_function 이 될 것임. 이때, wrapper_funcion 함수는 아직 실행 된게 아님.\n",
    "# decorated_display 변수 안에서 호출되기를 기다리는 것.\n",
    "# 그리고 #4의 decorated_display()를 통해 wrapper_function을 호출하면 #4번에서 정의된 wrapper_function이 호출.\n",
    "# 그러면 #7에서 original_function 인 display 함수가 호출되어 #8의 print 함수가 호출되고 문자열이 출력.\n",
    "# 이런 데코레이터를 쓰는 이유는 이미 만들어져 있는 기존의 코드를 수정하지 않고, wrapper(래퍼)함수를 이용하여 \n",
    "# 여러가지 기능 추가가능하기 때문"
   ]
  },
  {
   "cell_type": "code",
   "execution_count": 7,
   "metadata": {
    "collapsed": false
   },
   "outputs": [
    {
     "name": "stdout",
     "output_type": "stream",
     "text": [
      "display_1 함수가 호출되기 전 입니다.\n",
      "display_1 함수가 실행됬습니다.\n",
      "\n",
      "\n",
      "display_2 함수가 호출되기 전 입니다.\n",
      "display_2 함수가 실행됬습니다.\n"
     ]
    }
   ],
   "source": [
    "def decorator_function(original_function):\n",
    "    def wrapper_function(): # 진짜 말그대로 print 구문과 original_function 을 wrap 함. \n",
    "        print('{} 함수가 호출되기 전 입니다.'.format(original_function.__name__))\n",
    "        return original_function()\n",
    "    return wrapper_function\n",
    "\n",
    "# 돌려주는 거는 wrapper_function 임. 그래서 이걸 호출하면, decorate 시킨 기능과, 기존의 함수가 합쳐진 새로운 함수가 나옴.\n",
    "\n",
    "def display_1():\n",
    "    print('display_1 함수가 실행됬습니다.')\n",
    "\n",
    "def display_2():\n",
    "    print('display_2 함수가 실행됬습니다.')\n",
    "    \n",
    "display_1 = decorator_function(display_1) #1\n",
    "display_2 = decorator_function(display_2) #2\n",
    "\n",
    "display_1()\n",
    "print('\\n')\n",
    "display_2()\n",
    "\n",
    "# 위의 예제와 같이 하나의 데코레이터 함수를 만들어 display_1 과 display_2 두개의 함수에 기능을 추가할 수 있음.\n",
    "# 예를 들어 계산기1(+,- 가능) 계산기2(x, %가능) 에 계산 결과 출력하는 기능을 추가할 수 있다는 것.!!\n",
    "# 일반적으로 #1, #2 같은 구문은 사용하지 않고, @ 심볼과 데코레이터 함수의 일므을 붙여 쓰는 간단한 구문 사용 아래 예제"
   ]
  },
  {
   "cell_type": "code",
   "execution_count": 8,
   "metadata": {
    "collapsed": false
   },
   "outputs": [
    {
     "name": "stdout",
     "output_type": "stream",
     "text": [
      "display_1 함수가 호출되기 전입니다.\n",
      "display_1 함수가 실행됬습니다\n",
      "\n",
      "\n",
      "display_2 함수가 호출되기 전입니다.\n",
      "display_2 함수가 실행됬습니다\n"
     ]
    }
   ],
   "source": [
    "# 일반적으로 사용하는 데코레이터 구문\n",
    "\n",
    "def decorator_function(original_function):\n",
    "    def wrapper_function():\n",
    "        print('{} 함수가 호출되기 전입니다.'.format(original_function.__name__))\n",
    "        return original_function()\n",
    "    return wrapper_function\n",
    "\n",
    "@decorator_function #1 \n",
    "def display_1(): # display_1 = decorator_function(display_1) 이것과 같은구문\n",
    "    print('display_1 함수가 실행됬습니다')\n",
    "    \n",
    "@decorator_function #2\n",
    "def display_2():\n",
    "    print('display_2 함수가 실행됬습니다')\n",
    "    \n",
    "# display_1 = decorator_function(display_1) #3\n",
    "# display_2 = decorator_function(display_2) #4\n",
    "\n",
    "display_1()\n",
    "print('\\n')\n",
    "display_2()\n",
    "\n",
    "# #3, 4 대신에 @심볼을 사용한 데코레이터 구문 #1, 2가 추가되어 코드가 더 간단해짐. "
   ]
  },
  {
   "cell_type": "code",
   "execution_count": 10,
   "metadata": {
    "collapsed": false
   },
   "outputs": [
    {
     "name": "stdout",
     "output_type": "stream",
     "text": [
      "display 함수가 호출되기 전입니다.\n",
      "display 함수가 실행됬습니다.\n",
      "\n",
      "\n",
      "display_info 함수가 호출되기 전입니다.\n",
      "display_info(John, 25) 함수가 실행됬습니다.\n"
     ]
    }
   ],
   "source": [
    "def decorator_function(original_function):\n",
    "    def wrapper_function(*args, **kwargs): #1\n",
    "        print('{} 함수가 호출되기 전입니다.'.format(original_function.__name__))\n",
    "        return original_function(*args, **kwargs) #2\n",
    "    return wrapper_function\n",
    "\n",
    "@decorator_function\n",
    "def display():\n",
    "    print('display 함수가 실행됬습니다.')\n",
    "    \n",
    "@decorator_function\n",
    "def display_info(name, age):\n",
    "    print('display_info({}, {}) 함수가 실행됬습니다.'.format(name, age))\n",
    "    \n",
    "display()\n",
    "print('\\n')\n",
    "display_info('John', 25)\n",
    "\n",
    "# 인수가 있는 함수를 데코레이팅 시키려면 #1,2 처럼 *args, **kwargs 인수를 추가시켜줌."
   ]
  },
  {
   "cell_type": "code",
   "execution_count": 13,
   "metadata": {
    "collapsed": false
   },
   "outputs": [
    {
     "name": "stdout",
     "output_type": "stream",
     "text": [
      "display 함수가 호출되기 전입니다.\n",
      "display 함수가 실행됬습니다.\n",
      "\n",
      "\n",
      "display_info 함수가 호출되기 전입니다.\n",
      "display_info(John, 25) 함수가 실행됬습니다.\n"
     ]
    }
   ],
   "source": [
    "# 데코레이터는 함수 형식 말고도 클래스 형식을 사용할 수도 있음.\n",
    "#def decorator_function(original_function):\n",
    "#    def wrapper_function(*args, **kwargs): #1\n",
    "#        print('{} 함수가 호출되기 전입니다.'.format(original_function.__name__))\n",
    "#        return original_function(*args, **kwargs) #2\n",
    "#    return wrapper_function\n",
    "\n",
    "class DecoratorClass: #1\n",
    "    def __init__(self, original_function):\n",
    "        self.original_function = original_function\n",
    "        \n",
    "    def __call__(self, *args, **kwargs):\n",
    "        print('{} 함수가 호출되기 전입니다.'.format(self.original_function.__name__))\n",
    "        return self.original_function(*args, **kwargs)\n",
    "\n",
    "@DecoratorClass #2\n",
    "def display():\n",
    "    print('display 함수가 실행됬습니다.')\n",
    "    \n",
    "@DecoratorClass #3\n",
    "def display_info(name, age):\n",
    "    print('display_info({}, {}) 함수가 실행됬습니다.'.format(name, age))\n",
    "    \n",
    "display()\n",
    "print('\\n')\n",
    "display_info('John', 25)\n",
    "\n",
    "# #1에서 DecoratorClass를 정의한 뒤에 #2, #3에서 @DecoratorClass로 변경하니 decorator_function을 사용한 것과 같은 결과\n",
    "# 클래스 형식의 데코레이터는 그다지 많이 사용되지 않고 함수 형식이 많이 사용 됨."
   ]
  },
  {
   "cell_type": "code",
   "execution_count": null,
   "metadata": {
    "collapsed": true
   },
   "outputs": [],
   "source": [
    "# 실제 예\n",
    "# 데코레이터는 로그를 남기거나 유저의 로그인 상태등을 확인하여 로그인 상태가 아니면 로그인 페이지로 redirect 하기 위해 많이 사용\n",
    "# 프로그램 성능 테스트 위해서도 많이 사용. \n",
    "\n",
    "import datetime\n",
    "import time\n",
    "\n",
    "def my_logger(original_function):\n",
    "    import logging\n",
    "    logging.basicConfig(filename='{}.log'.format(original_function.__name__), level=logging.INFO)\n",
    "    \n",
    "    def wrapper(*args, **kwargs):\n",
    "        timestamp = datetime.datetime.now().strftime('%Y-%m-%d %H:%M')\n",
    "        logging.info('[{}] 실행결과 args - {}, kwargs - {}'.format(timestamp, args, kwargs))\n",
    "        return original_function(*args, **kwargs)\n",
    "    return wrapper\n",
    "\n",
    "@my_logger\n",
    "def display_info(name, age):\n",
    "    time.sleep(1)\n",
    "    print()"
   ]
  },
  {
   "cell_type": "code",
   "execution_count": 5,
   "metadata": {
    "collapsed": false
   },
   "outputs": [
    {
     "name": "stdout",
     "output_type": "stream",
     "text": [
      "display_info(John, 25) 함수가 실행됬습니다.\n",
      "지금\n",
      "display_info 함수가 실행된 총 시간: 1.0001063346862793 초\n"
     ]
    }
   ],
   "source": [
    "# 실제 예\n",
    "# 데코레이터는 로그를 남기거나 유저의 로그인 상태등을 확인하여 로그인 상태가 아니면 로그인 페이지로 redirect 하기 위해 많이 사용\n",
    "# 프로그램 성능 테스트 위해서도 많이 사용. \n",
    "\n",
    "import datetime\n",
    "import time\n",
    "\n",
    "def my_logger(original_function):\n",
    "    import logging\n",
    "    logging.basicConfig(filename='{}.log'.format(original_function.__name__), level=logging.INFO)\n",
    "    \n",
    "    def wrapper(*args, **kwargs):\n",
    "        timestamp = datetime.datetime.now().strftime('%Y-%m-%d %H:%M')\n",
    "        logging.info('[{}] 실행결과 args - {}, kwargs - {}'.format(timestamp, args, kwargs))\n",
    "        return original_function(*args, **kwargs)\n",
    "    return wrapper\n",
    "\n",
    "def my_timer(original_function): #1\n",
    "    import time\n",
    "    \n",
    "    def wrapper(*args, **kwargs):\n",
    "        t1 = time.time()\n",
    "        result = original_function(*args, **kwargs) # 함수를 실행해서 결과를 result 에 주는거임. 함수가 일단 실행됨.\n",
    "        print('지금')\n",
    "        t2 = time.time() - t1\n",
    "        print('{} 함수가 실행된 총 시간: {} 초'.format(original_function.__name__, t2))\n",
    "        return result\n",
    "        #return original_function(*args, **kwargs)\n",
    "    return wrapper\n",
    "\n",
    "@my_timer #2\n",
    "def display_info(name, age):\n",
    "    time.sleep(1)\n",
    "    print('display_info({}, {}) 함수가 실행됬습니다.'.format(name, age))\n",
    "    \n",
    "display_info('John', 25)"
   ]
  }
 ],
 "metadata": {
  "kernelspec": {
   "display_name": "Python 3",
   "language": "python",
   "name": "python3"
  },
  "language_info": {
   "codemirror_mode": {
    "name": "ipython",
    "version": 3
   },
   "file_extension": ".py",
   "mimetype": "text/x-python",
   "name": "python",
   "nbconvert_exporter": "python",
   "pygments_lexer": "ipython3",
   "version": "3.5.2"
  }
 },
 "nbformat": 4,
 "nbformat_minor": 1
}
