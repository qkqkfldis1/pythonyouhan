{
 "cells": [
  {
   "cell_type": "code",
   "execution_count": 1,
   "metadata": {
    "collapsed": false
   },
   "outputs": [
    {
     "data": {
      "application/javascript": [
       "\n",
       "Jupyter.keyboard_manager.command_shortcuts.add_shortcut('r', {\n",
       "    help : 'run cell', \n",
       "    help_index : 'zz',\n",
       "    handler : function (event) {\n",
       "        \n",
       "        \n",
       "        IPython.notebook.execute_cell();\n",
       "        return false;\n",
       "    }}\n",
       ");"
      ],
      "text/plain": [
       "<IPython.core.display.Javascript object>"
      ]
     },
     "metadata": {},
     "output_type": "display_data"
    }
   ],
   "source": [
    "%%javascript\n",
    "\n",
    "Jupyter.keyboard_manager.command_shortcuts.add_shortcut('r', {\n",
    "    help : 'run cell', \n",
    "    help_index : 'zz',\n",
    "    handler : function (event) {\n",
    "        \n",
    "        \n",
    "        IPython.notebook.execute_cell();\n",
    "        return false;\n",
    "    }}\n",
    ");\n"
   ]
  },
  {
   "cell_type": "code",
   "execution_count": 6,
   "metadata": {
    "collapsed": false
   },
   "outputs": [
    {
     "name": "stdout",
     "output_type": "stream",
     "text": [
      "I am here\n",
      "before..\n",
      "I am here\n",
      "after..\n"
     ]
    }
   ],
   "source": [
    "# 장식자 \n",
    "# 장식자(Decorator) 함수를 인수로 받는 함수 클로저(Function closure)\n",
    "# 함수 클로저를 간단히 말하면 함수 코드와 그 함수의 변수 참조 영역을 묶은 객체\n",
    "# 함수를 인스턴스화하는데 유용. 함수를 하나의 객체처럼, 호출후에도 살아 있도록. 죽지 않도록 하는 것.\n",
    "\n",
    "def wrapper(func): # 장식자는 함수 객체를 인수로 받는다.\n",
    "    def wrapped_func(): # 내부에서는 wrapper() 함수를 정의한다.\n",
    "        print('before..') # 원래 함수 이전에 실행되어야 할 코드\n",
    "        func() # 원래 함수\n",
    "        print('after..') # 원래 함수 이후에 실행될 코드\n",
    "    return wrapped_func # 원래 함수를 감싼 함수 클로저를 반환.\n",
    "\n",
    "def myfunc(): #원래 함수 정의\n",
    "    print('I am here')\n",
    "    \n",
    "myfunc() # 원래 함수를 실행한 결과\n",
    "myfunc = wrapper(myfunc) # 장식자에 함수를 전달\n",
    "myfunc() # 장식된 함수를 실행\n",
    "        "
   ]
  },
  {
   "cell_type": "code",
   "execution_count": 7,
   "metadata": {
    "collapsed": false
   },
   "outputs": [
    {
     "name": "stdout",
     "output_type": "stream",
     "text": [
      "before..\n",
      "I am here 2...\n",
      "after..\n"
     ]
    }
   ],
   "source": [
    "# 앞의 예에서 wrapper() 함수는 장식자이다. 함수를 인수로 받으며 함수 클로저를 반환한다.\n",
    "# myfunc = wrapper(myfunc) 로 반환된(장식된) 함수는 실행할 때마다 실제로는 wrapped_func() 함수가 실행된다. 이것이 장식자.\n",
    "# 장식자를 좀더 간단히 표현하는 방법이 있는데, @wrapper 형식의 선언을 함수 앞에 하는 것이다. 그러면 다음과 같이 변환 이뤄짐\n",
    "#@wrapper def f(): == def f(): ~ f= wrapper(f)\n",
    "\n",
    "@wrapper # 장식자\n",
    "def myfunc2(): # myfunc2 = wrapper(myfunc2)\n",
    "    print('I am here 2...')\n",
    "    \n",
    "myfunc2() # 장식된 함수 실행"
   ]
  },
  {
   "cell_type": "code",
   "execution_count": 8,
   "metadata": {
    "collapsed": false
   },
   "outputs": [
    {
     "data": {
      "text/plain": [
       "6"
      ]
     },
     "execution_count": 8,
     "metadata": {},
     "output_type": "execute_result"
    }
   ],
   "source": [
    "# 장식자를 사용하는 대표적인 예는 정적 메서드와 클래스 메서드. 다음 두 클래스는 동일한 결과 만듦.\n",
    "class D:\n",
    "    @staticmethod # add를 static method로\n",
    "    def add(x, y):\n",
    "        return x + y\n",
    "class D:\n",
    "    def add(x, y):\n",
    "        return x + y\n",
    "    add = staticmethod(add)\n",
    "    \n",
    "D.add(2, 4)\n",
    "# 장식자는 함수를 다시 한번 감싸서 호출하는 것이므로 호출에 부가적인 시간이 걸린다는 것에 유의\n",
    "# 연결된 장식자 장식자는 연결해서 사용할 수 있다.\n",
    "@A @B @C\n",
    "def f():\n",
    "    ~ 생략 ~\n",
    "# 혹은 다음과 같이 여러 줄에 걸쳐 사용할 수 있다.\n",
    "@A\n",
    "@B\n",
    "@C\n",
    "def f():\n",
    "    ~ 생략 ~\n",
    "    \n",
    "# 앞의 코드는 다음 코드와 동일\n",
    "def f():\n",
    "    ~ 생략 ~\n",
    "f = A(B(C(f)))"
   ]
  },
  {
   "cell_type": "code",
   "execution_count": 10,
   "metadata": {
    "collapsed": false
   },
   "outputs": [
    {
     "name": "stdout",
     "output_type": "stream",
     "text": [
      "sfsf\n",
      "<b><i>hello</i></b>\n"
     ]
    }
   ],
   "source": [
    "# 다음은 연결된 장식자의 간단한 예: 장식의 목표는 장식자에 따라서 HTML 태그가 붙어서 나오게 하는 것.\n",
    "\n",
    "def makebold(fn):\n",
    "    def wrapper():\n",
    "        return \"<b>\" + fn() + \"</b>\"\n",
    "    return wrapper\n",
    "\n",
    "def makeitalic(fn):\n",
    "    def wrapper():\n",
    "        return \"<i>\" + fn() + \"</i>\"\n",
    "    return wrapper\n",
    "\n",
    "@makebold\n",
    "@makeitalic\n",
    "def say():\n",
    "    return \"hello\"\n",
    "\n",
    "print(say()) # 출력 : <b><i>hello</i></b>"
   ]
  },
  {
   "cell_type": "code",
   "execution_count": 2,
   "metadata": {
    "collapsed": false
   },
   "outputs": [
    {
     "name": "stdout",
     "output_type": "stream",
     "text": [
      "debug 1 2\n"
     ]
    },
    {
     "data": {
      "text/plain": [
       "3"
      ]
     },
     "execution_count": 2,
     "metadata": {},
     "output_type": "execute_result"
    }
   ],
   "source": [
    "# 장식된 함수에 인수를 전달하기\n",
    "# 인수를 갖는 일반 함수를 장식하려면 장식 함수도 인수를 받아서 처리해야 한다.\n",
    "def debug(fn): # 장식자를 정의한다 \n",
    "    def wrapper(a, b): # fn과 동일한 인수를 받는다. 동일한 인수!! 장식 되는 함수와 동일한 인수를 가져야 한다!!!\n",
    "        print('debug', a, b) \n",
    "        return fn(a, b) # 함수를 호출한다.\n",
    "    return wrapper\n",
    "\n",
    "@debug\n",
    "def add(a, b):\n",
    "    return a + b\n",
    "\n",
    "add(1,2)"
   ]
  },
  {
   "cell_type": "code",
   "execution_count": 7,
   "metadata": {
    "collapsed": false
   },
   "outputs": [
    {
     "name": "stdout",
     "output_type": "stream",
     "text": [
      "calling add args= (1, 2, 'asdfasf', 'gha') kw= {}\n",
      "asdfasf\n",
      "gha\n",
      "\tresult= 3\n"
     ]
    },
    {
     "data": {
      "text/plain": [
       "3"
      ]
     },
     "execution_count": 7,
     "metadata": {},
     "output_type": "execute_result"
    }
   ],
   "source": [
    "# 인수 전달을 일반화하려면 다음과 같이 가변 인수와 키워드 인수를 함께 사용해야 한다.\n",
    "def debug(fn):\n",
    "    def wrapper(*args, **kw): # 가변 인수, 키워드 인수\n",
    "        print('calling', fn.__name__, 'args=', args, 'kw=', kw)\n",
    "        result = fn(*args, **kw) # 그대로 전달한다.\n",
    "        print('\\tresult=', result)\n",
    "        return result\n",
    "    return wrapper\n",
    "\n",
    "@debug\n",
    "def add(a, b, string, string2):\n",
    "    print(string)\n",
    "    print(string2)\n",
    "    return a + b\n",
    "add(1,2, 'asdfasf', 'gha')"
   ]
  },
  {
   "cell_type": "code",
   "execution_count": null,
   "metadata": {
    "collapsed": true
   },
   "outputs": [],
   "source": [
    "# 인수를 갖는 장식자\n",
    "# 장식자는 인수를 가질 수 있다.\n",
    "@A @B @C(args)\n",
    "def f():\n",
    "    ~생략 ~\n",
    "# 이것은 다음 코드와 동일\n",
    "def f():\n",
    "    ~ 생략 ~\n",
    "f = A(B(C(args)))\n",
    "# 즉, C(args) 는 새로운 장식자를 반환하며, 해당 장식자의 인수로 f를 전달하는 것."
   ]
  },
  {
   "cell_type": "code",
   "execution_count": 11,
   "metadata": {
    "collapsed": false
   },
   "outputs": [
    {
     "data": {
      "text/plain": [
       "<function __main__.accepts.<locals>.check_accepts.<locals>.new_f>"
      ]
     },
     "execution_count": 11,
     "metadata": {},
     "output_type": "execute_result"
    }
   ],
   "source": [
    "# 다음은 함수의 인수 타입을 확인하는 예\n",
    "def accepts(*types):\n",
    "    def check_accepts(f):\n",
    "        def new_f(*args, **kw):\n",
    "            for (a, t) in zip(args, types):\n",
    "                assert isinstance(a, t), \"args {} does not match {}\".format(a, t)\n",
    "            return f(*args, **kw) # 여기서 실제 함수가 호출된다.\n",
    "        return new_f # 장식자가 하나면 여기서 호출이 될텐데, 내부적으로 장식자가 하나 더 있어서, 그 안에서 함수가 호출됨.\n",
    "    return check_accepts\n",
    "\n",
    "# 장식자에 인수를 줘서 새로운 장식자를 만드는거다!\n",
    "\n",
    "# 아래와 비교해 보삼. \n",
    "# 그리 어려운 형태가 아님\n",
    "# 결국 wrapper 함수에서 반환하는 것은 fn(a, b) 라는 함수임\n",
    "# 위의 예제도 결국 wrapper 함수인 check_acceptes가 반환하는 것은 new_f임. 근데 이 new_f 는 내부 new_f 정의에서 보듯이\n",
    "# f(*args, **kw) 함수와 같음. 그러니까 1차 장식자 wrapper로 쌓여서 새로 만들어진 new_f 는 그 안에 있는 2차 장식자 에서 싸여진\n",
    "# f(*args, **kw) 와 같다. 걍 자료형 확인을 위해서 저렇게 내부에 또다른 장식자를 넣어준 것임.\n",
    "# 결국!! 중요한 것은, 장식자는 함수를 반환한다는 것임. 뭔가 장식을해서 새로운 함수를 반환 한다는 것! 함수를 반환하는 함수 \n",
    "\n",
    "def debug(fn): # 장식자를 정의한다 \n",
    "    def wrapper(a, b): # fn과 동일한 인수를 받는다. 동일한 인수!! 장식 되는 함수와 동일한 인수를 가져야 한다!!!\n",
    "        print('debug', a, b) \n",
    "        return fn(a, b) # 함수를 호출한다.\n",
    "    return wrapper\n",
    "\n",
    "# 함수가 세 개나 중첩되어 있다. 장식자 내부에 또 다른 장식자가 정의되어 있다.\n",
    "# @accepts(int, int)에 의해서 다시 장식자 check_accepts() 함수가 반환된다. \n",
    "# accept(*types)에 의해서 전달되는 types 인수는 (int, float)와 같은 자료형들이다. \n",
    "# 이 값들은 new_f() 함수 안의 isinstance(a, t)를 통하여 입력 인수 a가 t타입인지 확인.\n",
    "# assert 문은 진릿값을 확인하고 거짓이면 Assertion Error 에러 발생.\n",
    "isinstance(2, int)\n",
    "\n",
    "# 에러가 발생하지 않으면 f(*args, **kw)를 통해 원래 함수를 호출.\n",
    "accepts(int, int) # 장식자, 반환 값도 장식자이다.\n",
    "accepts(int, int)(add) # add를 check_aceepts로 장식한다."
   ]
  },
  {
   "cell_type": "code",
   "execution_count": 13,
   "metadata": {
    "collapsed": false
   },
   "outputs": [
    {
     "ename": "AssertionError",
     "evalue": "args 3.4 does not match <class 'int'>",
     "output_type": "error",
     "traceback": [
      "\u001b[0;31m---------------------------------------------------------------------------\u001b[0m",
      "\u001b[0;31mAssertionError\u001b[0m                            Traceback (most recent call last)",
      "\u001b[0;32m<ipython-input-13-51cda06da191>\u001b[0m in \u001b[0;36m<module>\u001b[0;34m()\u001b[0m\n\u001b[1;32m      3\u001b[0m     \u001b[1;32mreturn\u001b[0m \u001b[0ma\u001b[0m \u001b[1;33m+\u001b[0m \u001b[0mb\u001b[0m\u001b[1;33m\u001b[0m\u001b[0m\n\u001b[1;32m      4\u001b[0m \u001b[0madd\u001b[0m\u001b[1;33m(\u001b[0m\u001b[1;36m1\u001b[0m\u001b[1;33m,\u001b[0m \u001b[1;36m2\u001b[0m\u001b[1;33m)\u001b[0m \u001b[1;31m# 타입이 맞는 경우\u001b[0m\u001b[1;33m\u001b[0m\u001b[0m\n\u001b[0;32m----> 5\u001b[0;31m \u001b[0madd\u001b[0m\u001b[1;33m(\u001b[0m\u001b[1;36m3.4\u001b[0m\u001b[1;33m,\u001b[0m \u001b[1;36m6\u001b[0m\u001b[1;33m)\u001b[0m \u001b[1;31m# 타입이 맞지 않는 경우\u001b[0m\u001b[1;33m\u001b[0m\u001b[0m\n\u001b[0m",
      "\u001b[0;32m<ipython-input-11-4148ba49a23a>\u001b[0m in \u001b[0;36mnew_f\u001b[0;34m(*args, **kw)\u001b[0m\n\u001b[1;32m      4\u001b[0m         \u001b[1;32mdef\u001b[0m \u001b[0mnew_f\u001b[0m\u001b[1;33m(\u001b[0m\u001b[1;33m*\u001b[0m\u001b[0margs\u001b[0m\u001b[1;33m,\u001b[0m \u001b[1;33m**\u001b[0m\u001b[0mkw\u001b[0m\u001b[1;33m)\u001b[0m\u001b[1;33m:\u001b[0m\u001b[1;33m\u001b[0m\u001b[0m\n\u001b[1;32m      5\u001b[0m             \u001b[1;32mfor\u001b[0m \u001b[1;33m(\u001b[0m\u001b[0ma\u001b[0m\u001b[1;33m,\u001b[0m \u001b[0mt\u001b[0m\u001b[1;33m)\u001b[0m \u001b[1;32min\u001b[0m \u001b[0mzip\u001b[0m\u001b[1;33m(\u001b[0m\u001b[0margs\u001b[0m\u001b[1;33m,\u001b[0m \u001b[0mtypes\u001b[0m\u001b[1;33m)\u001b[0m\u001b[1;33m:\u001b[0m\u001b[1;33m\u001b[0m\u001b[0m\n\u001b[0;32m----> 6\u001b[0;31m                 \u001b[1;32massert\u001b[0m \u001b[0misinstance\u001b[0m\u001b[1;33m(\u001b[0m\u001b[0ma\u001b[0m\u001b[1;33m,\u001b[0m \u001b[0mt\u001b[0m\u001b[1;33m)\u001b[0m\u001b[1;33m,\u001b[0m \u001b[1;34m\"args {} does not match {}\"\u001b[0m\u001b[1;33m.\u001b[0m\u001b[0mformat\u001b[0m\u001b[1;33m(\u001b[0m\u001b[0ma\u001b[0m\u001b[1;33m,\u001b[0m \u001b[0mt\u001b[0m\u001b[1;33m)\u001b[0m\u001b[1;33m\u001b[0m\u001b[0m\n\u001b[0m\u001b[1;32m      7\u001b[0m             \u001b[1;32mreturn\u001b[0m \u001b[0mf\u001b[0m\u001b[1;33m(\u001b[0m\u001b[1;33m*\u001b[0m\u001b[0margs\u001b[0m\u001b[1;33m,\u001b[0m \u001b[1;33m**\u001b[0m\u001b[0mkw\u001b[0m\u001b[1;33m)\u001b[0m \u001b[1;31m# 여기서 실제 함수가 호출된다.\u001b[0m\u001b[1;33m\u001b[0m\u001b[0m\n\u001b[1;32m      8\u001b[0m         \u001b[1;32mreturn\u001b[0m \u001b[0mnew_f\u001b[0m\u001b[1;33m\u001b[0m\u001b[0m\n",
      "\u001b[0;31mAssertionError\u001b[0m: args 3.4 does not match <class 'int'>"
     ]
    }
   ],
   "source": [
    "@accepts(int, int) # add = accepts(int, int)(add)\n",
    "def add(a, b):\n",
    "    return a + b\n",
    "add(1, 2) # 타입이 맞는 경우\n",
    "add(3.4, 6) # 타입이 맞지 않는 경우"
   ]
  },
  {
   "cell_type": "code",
   "execution_count": 14,
   "metadata": {
    "collapsed": false
   },
   "outputs": [
    {
     "data": {
      "text/plain": [
       "5"
      ]
     },
     "execution_count": 14,
     "metadata": {},
     "output_type": "execute_result"
    }
   ],
   "source": [
    "# 메서드 장식하기\n",
    "# 메서드는 함수와 다르지 않다. 함수와 같은 방법으로 클래스의 메서드를 장식할 수 있다.\n",
    "# accepts() 함수를 다시 정의하고 메서드에 정의해 보자. \n",
    "# 유일한 차이점은 메서드를 장식할 때는 첫 인수로 self를 제외한다는 것. \n",
    "# 다음 예에서 accepts() 장식자는 add() 메서드의 첫 인수 self를 제외한 두 번째부터의 인수들을 accepts()에 사용.\n",
    "def accepts(*types):\n",
    "    def check_accepts(f):\n",
    "        def new_f(self, *args, **kw): # self 를 고려해야 한다.\n",
    "            for (a, t) in zip(args, types):\n",
    "                assert isinstance(a, t), \"arg {} does not match {}\".format(a, t)\n",
    "            return f(self, *args, **kw) # 실제 함수가 호출된다.\n",
    "        return new_f\n",
    "    return check_accepts\n",
    "\n",
    "class Sori:\n",
    "    @accepts(int, int) # self를 제외한 나머지 타입을 선언한다. 메서드를 장식하니까, 클래스 안에 들어옴. \n",
    "    # 그리고 클래스 안이니, self 를 고려하여 정의하는 것.\n",
    "    def add(self, a, b):\n",
    "        return a + b\n",
    "    \n",
    "s = Sori()\n",
    "s.add(2,3)"
   ]
  },
  {
   "cell_type": "code",
   "execution_count": 15,
   "metadata": {
    "collapsed": false
   },
   "outputs": [
    {
     "data": {
      "text/plain": [
       "'wrapper'"
      ]
     },
     "execution_count": 15,
     "metadata": {},
     "output_type": "execute_result"
    }
   ],
   "source": [
    "# @functools.wraps\n",
    "# 다음 예에서 s.add.__name__을 확인해보자\n",
    "def debug(fn):\n",
    "    def wrapper(*args, **kw): # 가변 인수, 키워드 인수\n",
    "        result = fn(*args, **kw) # 그대로 전달한다.\n",
    "    return wrapper\n",
    "\n",
    "class Sori:\n",
    "    @debug\n",
    "    def add(self, a, b):\n",
    "        return a + b\n",
    "    \n",
    "s = Sori()\n",
    "s.add.__name__\n",
    "\n",
    "# 원래는 add 이어야 하는데 장식자 함수 이름으로 바뀜\n",
    "# 이렇게 바뀐 잉"
   ]
  }
 ],
 "metadata": {
  "kernelspec": {
   "display_name": "Python 3",
   "language": "python",
   "name": "python3"
  },
  "language_info": {
   "codemirror_mode": {
    "name": "ipython",
    "version": 3
   },
   "file_extension": ".py",
   "mimetype": "text/x-python",
   "name": "python",
   "nbconvert_exporter": "python",
   "pygments_lexer": "ipython3",
   "version": "3.5.2"
  }
 },
 "nbformat": 4,
 "nbformat_minor": 1
}
