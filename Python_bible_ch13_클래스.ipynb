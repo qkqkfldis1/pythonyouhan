{
 "cells": [
  {
   "cell_type": "code",
   "execution_count": 1,
   "metadata": {
    "collapsed": false
   },
   "outputs": [
    {
     "name": "stdout",
     "output_type": "stream",
     "text": [
      "1 2\n",
      "['__class__', '__delattr__', '__dict__', '__dir__', '__doc__', '__eq__', '__format__', '__ge__', '__getattribute__', '__gt__', '__hash__', '__init__', '__le__', '__lt__', '__module__', '__ne__', '__new__', '__reduce__', '__reduce_ex__', '__repr__', '__setattr__', '__sizeof__', '__str__', '__subclasshook__', '__weakref__', 'a', 'b']\n",
      "['__class__', '__delattr__', '__dict__', '__dir__', '__doc__', '__eq__', '__format__', '__ge__', '__getattribute__', '__gt__', '__hash__', '__init__', '__le__', '__lt__', '__module__', '__ne__', '__new__', '__reduce__', '__reduce_ex__', '__repr__', '__setattr__', '__sizeof__', '__str__', '__subclasshook__', '__weakref__', 'a']\n"
     ]
    }
   ],
   "source": [
    "# 클래스는 새로운 이름 공간을 지원하는 단위\n",
    "# 이 이름공간에는 함수와 변수가 포함도리 수 있다. 이런 점에서는 모듈과 유사\n",
    "# 차이점은 모듈은 파일 단위로 이름 공간을 구성, 클래스는 클래스 이름 공간과 클래스가 생성하는\n",
    "# 인스턴스 이름 공간을 각각 갖는다.\n",
    "# 클래스 이름 공간과 인스턴스 이름 공간은 유기적인 관계로 연결되어 있음. \n",
    "# 상속 관계에 있는 클래스의 이름 공간도 유기적으로 연결. \n",
    "\n",
    "# 클래스를 정의하는 것은 새로운 자료형을 하나 만드는 것. 인스턴스는 이 자료형의 객체를 생성하는 것.\n",
    "\n",
    "class S1:\n",
    "    a = 1\n",
    "    \n",
    "S1.a\n",
    "S1.b = 2 # 클래스 이름 공간에 새로운 이름을 만든다\n",
    "print(S1.a,S1.b)\n",
    "print(dir(S1))\n",
    "del S1.b\n",
    "print(dir(S1))"
   ]
  },
  {
   "cell_type": "code",
   "execution_count": 20,
   "metadata": {
    "collapsed": false
   },
   "outputs": [
    {
     "name": "stdout",
     "output_type": "stream",
     "text": [
      "1\n",
      "10\n",
      "1\n",
      "300\n",
      "10\n",
      "1\n"
     ]
    }
   ],
   "source": [
    "# 클래스 인스턴스는 클래스의 실제 객체. 인스턴스 객체도 독자적인 이름 공간을 갖는다. \n",
    "# 클래스는 하나 이상의 인스턴스 객체를 생성하는 자료형\n",
    "x = S1() # S1 클래스의 인스턴스 객체 x를 생성한다.\n",
    "print(x.a) # 클래스 인스턴스 x의 이름 공간에 이름 a를 만든다.\n",
    "x.a = 10\n",
    "print(x.a) \n",
    "print(S1.a) # 클래스의 이름 공간과 인스턴스의 이름 공간은 다르다.\n",
    "\n",
    "y = S1() # 또 다른 클래스 인스턴스 생성\n",
    "y.a = 300 # 인스턴스 객체 y의 이름 공간에 이름을 만든다.\n",
    "print(y.a)\n",
    "print(x.a)\n",
    "print(S1.a)\n"
   ]
  },
  {
   "cell_type": "code",
   "execution_count": 23,
   "metadata": {
    "collapsed": false
   },
   "outputs": [
    {
     "name": "stdout",
     "output_type": "stream",
     "text": [
      "base\n",
      "['__class__', '__delattr__', '__dict__', '__dir__', '__doc__', '__eq__', '__format__', '__ge__', '__getattribute__', '__gt__', '__hash__', '__init__', '__le__', '__lt__', '__module__', '__ne__', '__new__', '__reduce__', '__reduce_ex__', '__repr__', '__setattr__', '__sizeof__', '__str__', '__subclasshook__', '__weakref__', 'f']\n"
     ]
    }
   ],
   "source": [
    "# 상속\n",
    "# 클래스는 상속(Inheritance)이 가능하다. 상속받은 클래스(Subclass, 하위 클래스)는 상속해 준 클래스(Superclass, 상위 클래스)\n",
    "# 의 모든 속성을 자동으로 물려받는다. 따라서 상속받는 클래스는 물려받는 속성 이외에 추가로 필요한 개별적은 속성만 정의하면 된다.\n",
    "\n",
    "class A:\n",
    "    def f(self):\n",
    "        print('base')\n",
    "\n",
    "class B(A): # 새로운 클래스 B는 A의 속성을 모두 상속 받는다.\n",
    "    pass\n",
    "\n",
    "b = B() # B 클래스 자료형을 가지는 새로운 인스턴스 b 생성\n",
    "b.f() # B 클래스는 A 클래스를 상속받았기 때문에, A 클래스 속성인 f 함수 사용 가능\n",
    "print(dir(A))"
   ]
  },
  {
   "cell_type": "code",
   "execution_count": 24,
   "metadata": {
    "collapsed": false
   },
   "outputs": [
    {
     "name": "stdout",
     "output_type": "stream",
     "text": [
      "add 3 called\n"
     ]
    },
    {
     "data": {
      "text/plain": [
       "3"
      ]
     },
     "execution_count": 24,
     "metadata": {},
     "output_type": "execute_result"
    }
   ],
   "source": [
    "class MyClass:\n",
    "    def __add__(self, x): # 이름 __add__는 + 연산자를 중복한다.\n",
    "        print('add {} called'.format(x))\n",
    "        return x\n",
    "a = MyClass()\n",
    "a + 3\n"
   ]
  },
  {
   "cell_type": "code",
   "execution_count": 20,
   "metadata": {
    "collapsed": false
   },
   "outputs": [
    {
     "name": "stdout",
     "output_type": "stream",
     "text": [
      "<class '__main__.Simple'>\n",
      "<__main__.Simple object at 0x0079DED0>\n"
     ]
    },
    {
     "data": {
      "text/plain": [
       "3"
      ]
     },
     "execution_count": 20,
     "metadata": {},
     "output_type": "execute_result"
    }
   ],
   "source": [
    "class Simple:\n",
    "    pass\n",
    "simple\n",
    "simple.__bases__\n",
    "s1 = Simple()\n",
    "s2 = Simple()\n",
    "print(Simple)\n",
    "print(s1)\n",
    "\n",
    "# 인스턴스 객체를 생성하는 방법은 마치 함수를 호출하듯이 클래스를 호출하면 된다.\n",
    "# 클래스를 호출하면 인스턴스 객체를 생성한 후 해당하는 참조를 반환한다.\n",
    "\n",
    "s1.stack = [] # 인스턴스 객체의 이름 공간 안에 stack을 생성한다.\n",
    "s1.stack.append(1) # 값을 추가한다.\n",
    "s1.stack.append(2)\n",
    "s1.stack.append(3)\n",
    "s1.stack # s1.stack 의 값을 출력\n",
    "s1.stack.pop() # s1.stack 에 마지막에 들어온 값을 읽어내고 삭제.\n",
    "s1.stack.pop()\n",
    "s1.stack.pop()\n",
    "s2.stack = [1, 2, 3]\n",
    "s2.stack.pop()\n",
    "\n",
    "# 동적으로 외부에서 멤버를 생성할 수 있다.\n",
    "# 사실 앞서 설명한 것처럼 클래스는 하나의 이름 공간에 불과하다!!!!!!!하나의 이름 공간에 불과!!!\n",
    "# 클래스의 인스턴스 객체 s1은 클래스 Simple 안에 내포된 독립적인 이름 공간을 가지며, \n",
    "# 이 이름 공간에서는 동적으로 이름을 설정하는 것이 가능하다."
   ]
  },
  {
   "cell_type": "code",
   "execution_count": 26,
   "metadata": {
    "collapsed": false
   },
   "outputs": [
    {
     "name": "stdout",
     "output_type": "stream",
     "text": [
      "<function MyClass.set at 0x00778D68>\n",
      "egg\n",
      "<__main__.MyClass object at 0x0079DBF0>\n",
      "<bound method MyClass.set of <__main__.MyClass object at 0x0079DBF0>>\n",
      "egg\n"
     ]
    }
   ],
   "source": [
    "# 일반 메서드의 정의와 호출.\n",
    "# 메서드를 정의하는 법은 일반 함수를 정의하는 것과 동일\n",
    "# 다른 점이 있다면 메서드의 첫 번째 인수는 반드시 해당 클래스의 인스턴스 객체여야 함.\n",
    "# 관례로 self란 이름으로 첫 번째 이름을 선언\n",
    "\n",
    "class MyClass:\n",
    "    def set(self, v): # 메서드의 첫 인수 self는 반드시 인스턴스 객체이어야 한다.\n",
    "        self.value = v\n",
    "    def get(self):\n",
    "        return self.value\n",
    "\n",
    "# 메서드를 호출하는 방법에는 두가지가 있는데, 첫 번째 방법은 클래스를 이용하여 호출하는 것\n",
    "# 이 호출을 언바운드 메서드 호출 (Unbound Method Call)\n",
    "\n",
    "c = MyClass() # 인스턴스 객체 생성\n",
    "print(MyClass.set) # 메서드 확인\n",
    "MyClass.set(c, 'egg') # 언바운드 메서드 호출\n",
    "print(MyClass.get(c))\n",
    "\n",
    "# 두번째 방법이 좀 더 일반적. 인스턴스 객체를 이용하여 호출.\n",
    "# 이렇게 하면 첫 인수로 인스턴스 객체가 자동으로 전달. 이 호출을 바운드 메서드 호출(bound method call)\n",
    "\n",
    "c = MyClass()\n",
    "print(c)\n",
    "print(c.set) # set() 메서드는 c에 바운드(연결)되어 있다. c.set의 set() 메서드는 이미 인스턴스\n",
    "#객체로 c와 연결되어 있다. 그래서 첫 번쨰 인수를 또 명시적으로 전달할 필요가 엇ㅂ다.\n",
    "c.set('egg') # 바운드 메서드 호출. MyClass.set 은 첫번째 인자로 인스턴스를 받아야 하는데,(self)\n",
    "# 인스턴스 객체로 호출하면, 자동적으로 instance 가 전달되므로 self 인수를 주지 않아도 됨.\n",
    "# 이 c.set 의 호출에서 첫 번째 인수 self 로 인스턴스 객체 c가 암시적으로 전달된다.\n",
    "print(c.get())"
   ]
  },
  {
   "cell_type": "code",
   "execution_count": null,
   "metadata": {
    "collapsed": true
   },
   "outputs": [],
   "source": [
    "# 클래스 내부에서의 메서드 호출\n",
    "# 클래스 내부에서 인스턴스 멤버나 클래스 메서드를 호출할 때는 인수 self 를 이용해야 한다.\n",
    "class MyClass:\n",
    "    def set(self, v):\n",
    "        self.value = v\n",
    "    def get(self):\n",
    "        return self.value\n",
    "    def incr(self):\n",
    "        self.value += 1\n",
    "        return self.get()\n",
    "# 만약에 self.get() 을 사용하지 않고 그냥 get() 메서드를 호출하면 클래스 내에서가 아니라, \n",
    "# 클래스 외부, 즉 모듈에서 이 함수를 찾는다. 클래스의 멤버나 메서드를 참조하려면 언제나 self를 \n",
    "# 이용하는 것을 잊지 말아야 한다."
   ]
  },
  {
   "cell_type": "code",
   "execution_count": 4,
   "metadata": {
    "collapsed": false
   },
   "outputs": [
    {
     "name": "stdout",
     "output_type": "stream",
     "text": [
      "10\n",
      "0\n"
     ]
    }
   ],
   "source": [
    "# 생성자와 소멸자\n",
    "# 파이썬은 이름 공간을 관리하는 측면에서 동적 특성이 강함. \n",
    "# 따라서 클래스의 인스턴스 객체를 생성할 때 인스턴스 멤버가 자동으로 생성되지 않음.\n",
    "\n",
    "class MyClass:\n",
    "    def set(self, v):\n",
    "        self.value = v\n",
    "    def get(self):\n",
    "        return self.value\n",
    "c = MyClass() #1\n",
    "c.set(10) #2 바운드 메서드 호출이니, 인스턴스 주지 않아도 되고, 바로 두번째 인수 주면 됨.\n",
    "print(c.get()) #3\n",
    "\n",
    "# 1번이 실행된 후에는 빈 이름 공간이 만들어짐. 시스템에서 설정하는 여러 이름은 정의되었으나, 사용자 정의 이름은 아직 없음.\n",
    "# 2번이 실행되야 이름 공간에 value가 만들어짐.\n",
    "# 2번과 3번의 순서가 바뀌면, AttributeError 발생. 존재하지 않음.\n",
    "# 모든 멤버 변수는 사용하기 전에 먼저 정의되어야 한다.\n",
    "# 대부분의 경우 클래스에서 사용될 멤버들은 인스턴스 객체를 생성하면서 먼저 정의되고 초기화되는 것이 일반적.\n",
    "# 일반적으로 클래스는 생성자(Constructur), 소멸자(destructor)라고 불리는 메서드를 정의할 수 있다.\n",
    "# 생성자 : 인스턴스 객체가 생성될 때 초기화를 위해서 자동으로 호출되는 초기화 메서드 __init__\n",
    "# 소멸자 : 인스턴스 객체를 사용하고서 메모리에서 제거할 때 자동으로 호출되는 메서드 __del_\n",
    "\n",
    "class MyClass3:\n",
    "    def __init__(self): # __init__ 메서드는 인스턴스 객체가 생성되고 나서 자동으로 호출된다. \n",
    "        self.value = 0 # 따라서 인스턴스 멤버 value의 값이 0으로 초기화 된다.\n",
    "    def set(self, v):\n",
    "        self.value = v\n",
    "    def get(self):\n",
    "        return self.value\n",
    "c = MyClass3()\n",
    "print(c.get()) # 멤버 value의 값이 이미 0으로 초기화되어 있다.\n",
    "\n",
    "# c = MyClass3() 를 통해서 객체 생성 과정\n",
    "# 1. 인스턴스 객체 생성. 2. __init__ 호출 (self.value = 0) 3. 인스턴스가 변수 c에 치환"
   ]
  },
  {
   "cell_type": "code",
   "execution_count": 4,
   "metadata": {
    "collapsed": false
   },
   "outputs": [
    {
     "name": "stdout",
     "output_type": "stream",
     "text": [
      "Birthday Thu Oct 20 17:17:54 2016\n",
      "sfsdfasdf\n",
      "Deathday Thu Oct 20 17:17:54 2016\n"
     ]
    }
   ],
   "source": [
    "# 생성자와 소멸자가 호출되는 과정\n",
    "from time import time, ctime, sleep\n",
    "class Life:\n",
    "    def __init__(self):\n",
    "        self.birth = ctime() # 생성자\n",
    "        print('Birthday', self.birth) # 현재 시간에 대한 문자열을 얻는다.\n",
    "    def __del__(self): # 소멸자\n",
    "        print('Deathday', ctime()) # 소멸 시각 출력\n",
    "        \n",
    "life = Life() # 인스턴스 객체가 생성된 후 생성자 호출\n",
    "print('sfsdfasdf')\n",
    "del life # 소멸자를 호출한 후 인스턴스 객체가 제거\n",
    "\n",
    "# Life 클래스의 인스턴스 객체가 생성되면 자동으로 __init__() 메서드가 호출되어 Birthday 출력\n",
    "# del 문에 의해서 참조 횟수의 값이 감소하고 0이 되면 __del__() 메서드가 호출되고 인스턴스 객체가 제거.\n",
    "# 소멸자 (__del__)은 자주 정의되지 않음. 대부분의 메모리나 자원 관리가 자동으로 이루어지기 때문에\n",
    "# 특별한 조치를 취하지 않아도 인스턴스 객체가 제거되면서 자원이 원상 복귀되기 때문."
   ]
  },
  {
   "cell_type": "code",
   "execution_count": 6,
   "metadata": {
    "collapsed": false
   },
   "outputs": [
    {
     "name": "stdout",
     "output_type": "stream",
     "text": [
      "이유한\n",
      "박혜진 천사 1/28\n"
     ]
    }
   ],
   "source": [
    "# 생성자에 인수가 선언되어 있는 예\n",
    "class member:\n",
    "    def __init__(self, name, nick, birthday):\n",
    "        self.name = name\n",
    "        self.nick = nick\n",
    "        self.birthday = birthday\n",
    "    def getName(self):\n",
    "        return self.name\n",
    "    def getNick(self):\n",
    "        return self.nick\n",
    "    def getBirthday(self):\n",
    "        return self.birthday\n",
    "    \n",
    "m1 = member('이유한', '불', '오늘')\n",
    "print(m1.getName())\n",
    "m2 = member(name = '박혜진', nick ='천사', birthday = '1/28')\n",
    "print(m2.getName(), m2.getNick(), m2.getBirthday())\n",
    "\n",
    "# 인스턴스 객체를 생성할 때 열거된 인수들은 생성자 인수에 전달. self 는 결과적으로 m1과 같은 참조가 되며, 나머지는 순서대로 전달\n",
    "# 함수에서와 같은 사용 법이 적용."
   ]
  },
  {
   "cell_type": "code",
   "execution_count": 9,
   "metadata": {
    "collapsed": false
   },
   "outputs": [
    {
     "name": "stdout",
     "output_type": "stream",
     "text": [
      "100\n",
      "100\n",
      "100\n",
      "100\n",
      "50\n",
      "100\n",
      "100\n"
     ]
    }
   ],
   "source": [
    "# 클래스 멤버와 인스턴스 멤버 구분하기.\n",
    "# 멤버에는 클래스 멤버와 인스턴스 멤버 두가지가 있음.\n",
    "# 클래스 멤버는 클래스의 이름 공간에 생성\n",
    "# 인스턴스 멤버는 인스턴스 객체의 이름 공간에 생성\n",
    "# 클래스 멤버는 모든 인스턴스 객체에 의해서 공유될 수 있음\n",
    "# 인스턴스 멤버는 각각의 인스턴스 객체 내에서만 참조\n",
    "\n",
    "class Var:\n",
    "    c_mem = 100 # 클래스 멤버\n",
    "    def f(self):\n",
    "        self.i_mem = 200 # 인스턴스 멤버\n",
    "    def g(self):\n",
    "        return self.i_mem, self.c_mem\n",
    "    \n",
    "# 클래스 멤버(c_mem)은 메서드 바깥에 정의. 인스턴스 멤버(i_mem)는 메서드 내부에서 self를 이용하여 정의. 인스턴스 멤버는 self 이용\n",
    "# 클래스 내부에서 멤버를 참조할 때는, self.c_mem, self.i_mem 과 같이 self 로 참조.\n",
    "# 외부에서 참조할 때는 다음과 같은 형식 \n",
    "# 클래스 멤버 : 클래스.멤버 혹은 인스턴스.멤버,  --- 인스턴스 멤버 : 인스턴스.멤버\n",
    "# 인스턴스.멤버 형식을 사용할 때 인스턴스 객체의 이름 공간에 멤버가 없으면 클래스의 멤버로 인식. \n",
    "# 따라서 다음과 같이 Var.c_mem 을 v1.c_mem 으로 참조하는 것이 가능하다.\n",
    "\n",
    "print(Var.c_mem) # 클래스 객체를 통하여\n",
    "v1 = Var()\n",
    "print(v1.c_mem) # 인스턴스 객체를 통하여\n",
    "v1.f() # 인스턴스 멤버 i_mem 생성\n",
    "v2 = Var()\n",
    "\n",
    "# 정리하면 self.c_mem 형식이나, 인스턴스.멤버 형식으로 멤버 참조할 때 검색 순서는 다음과 같다.\n",
    "# 1. 먼저 인스턴스 객체의 이름 공간에서 멤버를 참조.\n",
    "# 2. 만일 인스턴스 객체의 이름 공간에 멤버가 없으면 클래스의 멤버를 참조.\n",
    "# 클래스(예: 사람) 멤버(심장, 눈, 행복, 양심 등)는 클래스의 모든 인스턴스 객체가 공유하는 멤버.\n",
    "# 인스턴스 멤버(유한이는 크로스핏 할줄 암. 혜진이는 피아노 칠줄 암)는 각각의 인스턴스 객체가 별도로 가지고 있는 멤버.\n",
    "print(v1.c_mem) # 클래스 멤버를 참조한다. #1\n",
    "print(v2.c_mem) # 클래스 멤버를 참조한다.\n",
    "v1.c_mem = 50 # 인스턴스 객체의 이름 공간에 c_mem 을 생성한다. 클래스 멤버 c_mem 이랑 다름.\n",
    "print(v1.c_mem) # 인스턴스 멤버를 참조한다. #1 의 코드와 비교\n",
    "print(v2.c_mem) # 인스턴스 멤버가 없으므로 클래스 멤버를 참조.\n",
    "print(Var.c_mem) # 클래스 멤버를 참조"
   ]
  },
  {
   "cell_type": "code",
   "execution_count": 11,
   "metadata": {
    "collapsed": false
   },
   "outputs": [
    {
     "ename": "AttributeError",
     "evalue": "'Person' object has no attribute 'address'",
     "output_type": "error",
     "traceback": [
      "\u001b[0;31m---------------------------------------------------------------------------\u001b[0m",
      "\u001b[0;31mAttributeError\u001b[0m                            Traceback (most recent call last)",
      "\u001b[0;32m<ipython-input-11-6c2f6f38c651>\u001b[0m in \u001b[0;36m<module>\u001b[0;34m()\u001b[0m\n\u001b[1;32m     11\u001b[0m \u001b[0mm1\u001b[0m\u001b[1;33m.\u001b[0m\u001b[0mname\u001b[0m \u001b[1;33m=\u001b[0m \u001b[1;34m'이강성'\u001b[0m\u001b[1;33m\u001b[0m\u001b[0m\n\u001b[1;32m     12\u001b[0m \u001b[0mm1\u001b[0m\u001b[1;33m.\u001b[0m\u001b[0mtel\u001b[0m \u001b[1;33m=\u001b[0m \u001b[1;34m'123123'\u001b[0m\u001b[1;33m\u001b[0m\u001b[0m\n\u001b[0;32m---> 13\u001b[0;31m \u001b[0mm1\u001b[0m\u001b[1;33m.\u001b[0m\u001b[0maddress\u001b[0m \u001b[1;33m=\u001b[0m \u001b[1;34m'서울'\u001b[0m\u001b[1;33m\u001b[0m\u001b[0m\n\u001b[0m",
      "\u001b[0;31mAttributeError\u001b[0m: 'Person' object has no attribute 'address'"
     ]
    }
   ],
   "source": [
    "# 사용 가능한 멤버 고정: __slots_ 속성\n",
    "# 클래스에 정의한 이름 이외의 속성을 만들 수 없게 하는 것이 필요하면 __slots__ 속성 이용.\n",
    "# 다음 예는 클래스 Person에 name과 tel 이외의 속성은 지정할 수 없도록 함.\n",
    "# 클래스 멤버 __slots__는 리스트로 설정 가능한 속성의 이름을 갖는다. \n",
    "# __slots__ 속성에 등록되지 않은 이름은 사용할 수 없게 된다.\n",
    "# 이 속성을 사용하는 경우에는 이름 공간을 표현하는 __dict__는 사용되지 않는다.\n",
    "class Person:\n",
    "    __slots__ = ['name', 'tel']\n",
    "    \n",
    "m1 = Person()\n",
    "m1.name = '이강성' # __slots__ 속성에 등록된 속성\n",
    "m1.tel = '123123' # __slots__ 속성에 등록된 속성\n",
    "m1.address = '서울' #__slots__ 속성에 등록되지 않은 속성"
   ]
  }
 ],
 "metadata": {
  "kernelspec": {
   "display_name": "Python 3",
   "language": "python",
   "name": "python3"
  },
  "language_info": {
   "codemirror_mode": {
    "name": "ipython",
    "version": 3
   },
   "file_extension": ".py",
   "mimetype": "text/x-python",
   "name": "python",
   "nbconvert_exporter": "python",
   "pygments_lexer": "ipython3",
   "version": "3.5.2"
  }
 },
 "nbformat": 4,
 "nbformat_minor": 1
}
