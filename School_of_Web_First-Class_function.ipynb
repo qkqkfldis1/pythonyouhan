{
 "cells": [
  {
   "cell_type": "code",
   "execution_count": 5,
   "metadata": {
    "collapsed": false
   },
   "outputs": [
    {
     "name": "stdout",
     "output_type": "stream",
     "text": [
      "25\n",
      "<function square at 0x055BA978>\n",
      "<function square at 0x055BA978>\n",
      "25\n"
     ]
    }
   ],
   "source": [
    "# 퍼스트 클래스 함수 예제\n",
    "# 프로그래밍 언어가 퍼스트클래스 함수를 지원하면\n",
    "# 1. 변수에 할당 간으\n",
    "# 2. 인자로써 다른 함수에 전달\n",
    "# 3. 함수의 리턴값으로 사용 가능\n",
    "\n",
    "def square(x):\n",
    "    return x * x\n",
    "\n",
    "print(square(5))\n",
    "\n",
    "# 프로그래밍 언어가 퍼스트클래스 함수를 지원하면 변수에 함수 할당 가능\n",
    "f = square\n",
    "\n",
    "print(square)\n",
    "print(f)\n",
    "\n",
    "print(f(5))"
   ]
  },
  {
   "cell_type": "code",
   "execution_count": 6,
   "metadata": {
    "collapsed": false
   },
   "outputs": [
    {
     "name": "stdout",
     "output_type": "stream",
     "text": [
      "[1, 4, 9, 16, 25]\n"
     ]
    }
   ],
   "source": [
    "# 함수를 인자로 사용하는 경우\n",
    "def square(x):\n",
    "    return x * x\n",
    "def my_map(func, arg_list):\n",
    "    result = []\n",
    "    for i in arg_list:\n",
    "        result.append(func(i)) # square 함수 호출, func == square\n",
    "    return result\n",
    "\n",
    "num_list = [1, 2, 3, 4, 5]\n",
    "\n",
    "squares = my_map(square, num_list)\n",
    "\n",
    "print(squares)"
   ]
  },
  {
   "cell_type": "code",
   "execution_count": 7,
   "metadata": {
    "collapsed": false
   },
   "outputs": [
    {
     "name": "stdout",
     "output_type": "stream",
     "text": [
      "[1, 4, 9, 16, 25]\n"
     ]
    }
   ],
   "source": [
    "# 간단한 함수면 굳이 퍼스트 클래스 함수를 이용하여, 함수를 인자로 사용하지 않아도 된다.\n",
    "def square(x):\n",
    "    return x * x\n",
    "\n",
    "num_list = [1, 2, 3, 4, 5]\n",
    "\n",
    "def simple_square(arg_list):\n",
    "    result = []\n",
    "    for i in arg_list:\n",
    "        result.append(i * i)\n",
    "    return result\n",
    "\n",
    "simple_squares = simple_square(num_list)\n",
    "\n",
    "print(simple_squares)"
   ]
  },
  {
   "cell_type": "code",
   "execution_count": 9,
   "metadata": {
    "collapsed": false
   },
   "outputs": [
    {
     "name": "stdout",
     "output_type": "stream",
     "text": [
      "[1, 4, 9, 16, 25]\n",
      "[1, 8, 27, 64, 125]\n",
      "[1, 16, 81, 256, 625]\n"
     ]
    }
   ],
   "source": [
    "# 하지만 퍼스트클래스 함수를 사용하면 이미 정의된 함수를 간단히 재활용 할 수 있다는 장점이 있음.\n",
    "# 이를 위한 함수가 wrapper 함수\n",
    "\n",
    "def square(x):\n",
    "    return x * x\n",
    "\n",
    "def cube(x):\n",
    "    return x * x * x\n",
    "\n",
    "def quad(x):\n",
    "    return x * x * x * x\n",
    "def my_map(func, arg_list):\n",
    "    result = []\n",
    "    for i in arg_list:\n",
    "        result.append(func(i)) # square 함수 호출, func == square\n",
    "    return result\n",
    "\n",
    "num_list = [1, 2, 3, 4, 5]\n",
    "\n",
    "squares = my_map(square, num_list)\n",
    "cubes = my_map(cube, num_list)\n",
    "quads = my_map(quad, num_list)\n",
    "\n",
    "print(squares)\n",
    "print(cubes)\n",
    "print(quads)\n",
    "\n",
    "# 이미 정의되어 있는 함수 square, cub, quad와 같은 여러개의 함수나 모듈이 있다고 가정 했을 때, my_map 과 같은 \n",
    "# wrapper 함수를 하나만 정의하여 기존의 함수나 모듈을 수정할 필요없이 편리하게 쓸 수가 있음."
   ]
  },
  {
   "cell_type": "code",
   "execution_count": 16,
   "metadata": {
    "collapsed": false
   },
   "outputs": [
    {
     "name": "stdout",
     "output_type": "stream",
     "text": [
      "<function logger.<locals>.log_message at 0x00C19738>\n",
      "Log:  Hi\n",
      "NameError: logger는 존재하지 않습니다.\n",
      "Log:  Hi\n"
     ]
    }
   ],
   "source": [
    "def logger(msg):\n",
    "    def log_message():\n",
    "        print('Log: ', msg)\n",
    "        \n",
    "    return log_message\n",
    "\n",
    "log_hi = logger('Hi')\n",
    "print(log_hi) # log_message 오브젝트가 출력\n",
    "log_hi() \n",
    "\n",
    "del logger # 글로벌 네임스페이스에서 logger 오브젝트 삭제\n",
    "\n",
    "# logger 오브젝트가 지워진 것을 확인\n",
    "try:\n",
    "    print(logger)\n",
    "except NameError:\n",
    "        print('NameError: logger는 존재하지 않습니다.')\n",
    "        \n",
    "log_hi() # logger가 지워진 뒤에서 계속 Log: hi 가 출력"
   ]
  },
  {
   "cell_type": "code",
   "execution_count": 1,
   "metadata": {
    "collapsed": false
   },
   "outputs": [
    {
     "name": "stdout",
     "output_type": "stream",
     "text": [
      "<h1>심플 헤딩 타이틀<h1>\n",
      "------------------------------\n",
      "<function html_tag.<locals>.wrap_text at 0x058EF5D0>\n",
      "<h1>첫 번째 헤딩 타이틀<h1>\n",
      "<h1>두 번째 헤딩 타이틀<h1>\n",
      "<p>이것은 패러그래프<p>\n"
     ]
    }
   ],
   "source": [
    "def simple_html_tag(tag, msg):\n",
    "    print('<{0}>{1}<{0}>'.format(tag,msg))\n",
    "    \n",
    "simple_html_tag('h1', '심플 헤딩 타이틀')\n",
    "\n",
    "print('-'*30)\n",
    "\n",
    "#함수를 리턴하는 함수\n",
    "def html_tag(tag):\n",
    "    def wrap_text(msg):\n",
    "        print('<{0}>{1}<{0}>'.format(tag, msg))\n",
    "    return wrap_text\n",
    "\n",
    "print_h1 = html_tag('h1') #1\n",
    "print(print_h1)\n",
    "print_h1('첫 번째 헤딩 타이틀')\n",
    "print_h1('두 번째 헤딩 타이틀')\n",
    "\n",
    "print_p = html_tag('p')\n",
    "print_p('이것은 패러그래프')\n",
    "\n",
    "# 그러니까 함수 클로저는 !! 함수를 리턴 값으로 줄 수 있을 때, 만들어진다."
   ]
  }
 ],
 "metadata": {
  "kernelspec": {
   "display_name": "Python 3",
   "language": "python",
   "name": "python3"
  },
  "language_info": {
   "codemirror_mode": {
    "name": "ipython",
    "version": 3
   },
   "file_extension": ".py",
   "mimetype": "text/x-python",
   "name": "python",
   "nbconvert_exporter": "python",
   "pygments_lexer": "ipython3",
   "version": "3.5.2"
  }
 },
 "nbformat": 4,
 "nbformat_minor": 1
}
