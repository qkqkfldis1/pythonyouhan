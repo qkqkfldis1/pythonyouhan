{
 "cells": [
  {
   "cell_type": "code",
   "execution_count": 1,
   "metadata": {
    "collapsed": false
   },
   "outputs": [
    {
     "data": {
      "application/javascript": [
       "\n",
       "Jupyter.keyboard_manager.command_shortcuts.add_shortcut('r', {\n",
       "    help : 'run cell',\n",
       "    help_index : 'zz',\n",
       "    handler : function (event) {\n",
       "        IPython.notebook.execute_cell();\n",
       "        return false;\n",
       "    }}\n",
       ");"
      ],
      "text/plain": [
       "<IPython.core.display.Javascript object>"
      ]
     },
     "metadata": {},
     "output_type": "display_data"
    }
   ],
   "source": [
    "%%javascript\n",
    "\n",
    "Jupyter.keyboard_manager.command_shortcuts.add_shortcut('r', {\n",
    "    help : 'run cell',\n",
    "    help_index : 'zz',\n",
    "    handler : function (event) {\n",
    "        IPython.notebook.execute_cell();\n",
    "        return false;\n",
    "    }}\n",
    ");\n"
   ]
  },
  {
   "cell_type": "code",
   "execution_count": 2,
   "metadata": {
    "collapsed": false
   },
   "outputs": [
    {
     "data": {
      "text/plain": [
       "['a', 'b', 'c']"
      ]
     },
     "execution_count": 2,
     "metadata": {},
     "output_type": "execute_result"
    }
   ],
   "source": [
    "# 연산자의 중복과 장식자\n",
    "# 연산자의 중복(Operator overloading) 이란 프로그램 언어에서 지원하는 연산자에 대해 클래스가 새로운 동작을 하도록 정의\n",
    "# 파이썬에서 사용하는 모든 연산자는 클래스 내에서 새롭게 정의할 수 있다.\n",
    "\n",
    "# 이항 연산자.\n",
    "# 파이썬에서는 내장 자로형에 사용하는 모든 연산을 독자가 정의하는 클래스에서 동작하도록 구현할 수 있다.\n",
    "\n",
    "class MyStr:\n",
    "    def __init__(self, s):\n",
    "        self.s = s\n",
    "        # 여기에 현재는 가능하지 않은 나눗셈 연산 추가해보자. 나누기(/) 연산자는 __truediv__() 메서드로 확장.\n",
    "        # 예를들면 s1 / ':'에 의해 s1.__truediv__(':')가 호출\n",
    "    def __truediv__(self, b):\n",
    "        return self.s.split(b)\n",
    "\n",
    "s1 = MyStr('a:b:c')\n",
    "s1 / ':' # 나누기 연산이 가능해 짐"
   ]
  },
  {
   "cell_type": "code",
   "execution_count": 3,
   "metadata": {
    "collapsed": false
   },
   "outputs": [
    {
     "data": {
      "text/plain": [
       "'a:b:c:d'"
      ]
     },
     "execution_count": 3,
     "metadata": {},
     "output_type": "execute_result"
    }
   ],
   "source": [
    "# 이처럼 파이썬은 모든 연산자에 대응하는 적절한 이름의 메서드가 정해져 있어서 연산자가 사용될 때 해당 메서드로 확장된다.\n",
    "# 더하기 연산자 추가\n",
    "\n",
    "class MyStr:\n",
    "    def __init__(self, s):\n",
    "        self.s = s\n",
    "    def __truediv__(self, b):\n",
    "        return self.s.split(b)\n",
    "    def __add__(self, b):\n",
    "        return self.s + b\n",
    "\n",
    "    \n",
    "s1 = MyStr('a:b:c')\n",
    "\n",
    "s1.s + ':d' # s1.__add__(':d')"
   ]
  },
  {
   "cell_type": "code",
   "execution_count": 4,
   "metadata": {
    "collapsed": false
   },
   "outputs": [
    {
     "ename": "SyntaxError",
     "evalue": "invalid syntax (<ipython-input-4-be1d27c0ccc1>, line 7)",
     "output_type": "error",
     "traceback": [
      "\u001b[0;36m  File \u001b[0;32m\"<ipython-input-4-be1d27c0ccc1>\"\u001b[0;36m, line \u001b[0;32m7\u001b[0m\n\u001b[0;31m    return self.s.split(b)r\u001b[0m\n\u001b[0m                          ^\u001b[0m\n\u001b[0;31mSyntaxError\u001b[0m\u001b[0;31m:\u001b[0m invalid syntax\n"
     ]
    }
   ],
   "source": [
    "# 이처럼 파이썬은 모든 연산자에 대응하는 적절한 이름의 메서드가 정해져 있어서 연산자가 사용될 때 해당 메서드로 확장된다.\n",
    "# 더하기 연산자 안 쓰면 아래와 같이 s1.s 처럼 일일이 접근해서 써야함.\n",
    "class MyStr:\n",
    "    def __init__(self, s):\n",
    "        self.s = s\n",
    "    def __truediv__(self, b):\n",
    "        return self.s.split(b)r\n",
    "#     def __add__(self, b):\n",
    "#         return self.s + b\n",
    "    \n",
    "s1 = MyStr('a:b:c')\n",
    "s1.s + ':d' # s1.__add__(':d')"
   ]
  },
  {
   "cell_type": "code",
   "execution_count": 6,
   "metadata": {
    "collapsed": false
   },
   "outputs": [
    {
     "data": {
      "text/plain": [
       "'z:a:b:c'"
      ]
     },
     "execution_count": 6,
     "metadata": {},
     "output_type": "execute_result"
    }
   ],
   "source": [
    "# 역 이항 연산자\n",
    "# 만약 'z:' + s1 한다면?? 'z:'이 MyStr형 객체와의 연산을 지원하지 않는다.\n",
    "# a+b 연산에서 a.__add__(b) 를 우선 시도하고, 이것이 구현되어 있지 않으면 b.__radd__(a) 시도한다.\n",
    "\n",
    "class MyStr:\n",
    "    def __init__(self, s):\n",
    "        self.s = s\n",
    "    def __truediv__(self, b):\n",
    "        return self.s.split(b)\n",
    "    def __add__(self, b):\n",
    "        return self.s + b\n",
    "    def __radd__(self, b):\n",
    "        return b + self.s # __add__ 와 순서 반대로임.  r 붙어있음.\n",
    "    \n",
    "s1 = MyStr('a:b:c')\n",
    "'z:'+s1\n"
   ]
  },
  {
   "cell_type": "code",
   "execution_count": 25,
   "metadata": {
    "collapsed": false
   },
   "outputs": [
    {
     "name": "stdout",
     "output_type": "stream",
     "text": [
      "z:a:b:c\n",
      "a:b:csdf\n",
      "a:b:csdf\n"
     ]
    }
   ],
   "source": [
    "# 확장 산술 연산자 \n",
    "class MyStr:\n",
    "    def __init__(self, s):\n",
    "        self.s = s\n",
    "    def __truediv__(self, b):\n",
    "        return self.s.split(b)\n",
    "    def __add__(self, b):\n",
    "        return self.s + b\n",
    "    def __radd__(self, b):\n",
    "        return b + self.s # __add__ 와 순서 반대로임.  r 붙어있음.\n",
    "    def __iadd__(self, b):\n",
    "        self.s = self.s + b\n",
    "        return self.s\n",
    "    def get(self):\n",
    "        return self.s \n",
    "    \n",
    "s1 = MyStr('a:b:c')\n",
    "print('z:'+s1)\n",
    "print(s1.__iadd__('sdf'))\n",
    "print(s1.s)\n",
    "\n",
    "# 단항 연산자, 형변환 연산자 모두 연산자 중복 가능."
   ]
  },
  {
   "cell_type": "code",
   "execution_count": 32,
   "metadata": {
    "collapsed": false
   },
   "outputs": [
    {
     "name": "stdout",
     "output_type": "stream",
     "text": [
      "__index__called\n",
      "__index__called\n"
     ]
    },
    {
     "data": {
      "text/plain": [
       "'0b11'"
      ]
     },
     "execution_count": 32,
     "metadata": {},
     "output_type": "execute_result"
    }
   ],
   "source": [
    "# 다음은 __index() 메서드를 사용하는 간단한 예\n",
    "class Index:\n",
    "    def __index__(self):\n",
    "        print('__index__called')\n",
    "        return 3\n",
    "L = [1, 2, 3, 4, 5]\n",
    "i = Index()\n",
    "L[i:]\n",
    "bin(i)\n",
    "\n",
    "\n",
    "# 인덱스로 사용할 자료형은 정수로만 표현해야 하는데, 이를 검사하기 위해서 __index__() 메서드가 존재"
   ]
  },
  {
   "cell_type": "code",
   "execution_count": 15,
   "metadata": {
    "collapsed": false
   },
   "outputs": [
    {
     "name": "stdout",
     "output_type": "stream",
     "text": [
      "16\n"
     ]
    },
    {
     "ename": "TypeError",
     "evalue": "...",
     "output_type": "error",
     "traceback": [
      "\u001b[0;31m---------------------------------------------------------------------------\u001b[0m",
      "\u001b[0;31mTypeError\u001b[0m                                 Traceback (most recent call last)",
      "\u001b[0;32m<ipython-input-15-510fc04f500d>\u001b[0m in \u001b[0;36m<module>\u001b[0;34m()\u001b[0m\n\u001b[1;32m     24\u001b[0m \u001b[0mlen\u001b[0m\u001b[1;33m(\u001b[0m\u001b[0ms1\u001b[0m\u001b[1;33m)\u001b[0m\u001b[1;33m\u001b[0m\u001b[0m\n\u001b[1;32m     25\u001b[0m \u001b[0mprint\u001b[0m\u001b[1;33m(\u001b[0m\u001b[0ms1\u001b[0m\u001b[1;33m[\u001b[0m\u001b[1;36m4\u001b[0m\u001b[1;33m]\u001b[0m\u001b[1;33m)\u001b[0m\u001b[1;33m\u001b[0m\u001b[0m\n\u001b[0;32m---> 26\u001b[0;31m \u001b[0mprint\u001b[0m\u001b[1;33m(\u001b[0m\u001b[0ms1\u001b[0m\u001b[1;33m[\u001b[0m\u001b[1;34m'a'\u001b[0m\u001b[1;33m]\u001b[0m\u001b[1;33m)\u001b[0m\u001b[1;31m#이건 error 가 나옴\u001b[0m\u001b[1;33m\u001b[0m\u001b[0m\n\u001b[0m\u001b[1;32m     27\u001b[0m \u001b[1;33m\u001b[0m\u001b[0m\n\u001b[1;32m     28\u001b[0m \u001b[1;32mfor\u001b[0m \u001b[0mx\u001b[0m \u001b[1;32min\u001b[0m \u001b[0ms1\u001b[0m\u001b[1;33m:\u001b[0m\u001b[1;33m\u001b[0m\u001b[0m\n",
      "\u001b[0;32m<ipython-input-15-510fc04f500d>\u001b[0m in \u001b[0;36m__getitem__\u001b[0;34m(self, k)\u001b[0m\n\u001b[1;32m     16\u001b[0m     \u001b[1;32mdef\u001b[0m \u001b[0m__getitem__\u001b[0m\u001b[1;33m(\u001b[0m\u001b[0mself\u001b[0m\u001b[1;33m,\u001b[0m \u001b[0mk\u001b[0m\u001b[1;33m)\u001b[0m\u001b[1;33m:\u001b[0m\u001b[1;33m\u001b[0m\u001b[0m\n\u001b[1;32m     17\u001b[0m         \u001b[1;32mif\u001b[0m \u001b[0mtype\u001b[0m\u001b[1;33m(\u001b[0m\u001b[0mk\u001b[0m\u001b[1;33m)\u001b[0m \u001b[1;33m!=\u001b[0m \u001b[0mint\u001b[0m\u001b[1;33m:\u001b[0m\u001b[1;33m\u001b[0m\u001b[0m\n\u001b[0;32m---> 18\u001b[0;31m             \u001b[1;32mraise\u001b[0m \u001b[0mTypeError\u001b[0m\u001b[1;33m(\u001b[0m\u001b[1;34m'...'\u001b[0m\u001b[1;33m)\u001b[0m\u001b[1;33m\u001b[0m\u001b[0m\n\u001b[0m\u001b[1;32m     19\u001b[0m         \u001b[1;32mif\u001b[0m \u001b[0mk\u001b[0m \u001b[1;33m<\u001b[0m \u001b[1;36m0\u001b[0m \u001b[1;32mor\u001b[0m \u001b[0mself\u001b[0m\u001b[1;33m.\u001b[0m\u001b[0mend\u001b[0m \u001b[1;33m<=\u001b[0m \u001b[0mk\u001b[0m\u001b[1;33m:\u001b[0m\u001b[1;33m\u001b[0m\u001b[0m\n\u001b[1;32m     20\u001b[0m             \u001b[1;32mraise\u001b[0m \u001b[0mIndexError\u001b[0m\u001b[1;33m(\u001b[0m\u001b[1;34m'index {} out of range'\u001b[0m\u001b[1;33m.\u001b[0m\u001b[0mformat\u001b[0m\u001b[1;33m(\u001b[0m\u001b[0mk\u001b[0m\u001b[1;33m)\u001b[0m\u001b[1;33m)\u001b[0m\u001b[1;33m\u001b[0m\u001b[0m\n",
      "\u001b[0;31mTypeError\u001b[0m: ..."
     ]
    }
   ],
   "source": [
    "# 컨테이너 자료형(시퀀스 자료형, 매핑 자료형)의 연산자 중복\n",
    "# 이 절에서는 컨테이너 자료형에 적용할 메서드 소개.\n",
    "\n",
    "# 인덱싱\n",
    "# 인덱싱은 시퀀스 자료형엥서 순서에 의해서 데이터에 접근하기 위한 방법을 제공. 기본적으로는 __getitem__()메서드 정의\n",
    "# 다음 Square 클래스는 생성자 인수로 범위를 받아들이며, 해당 범위에서 요구된 인덱스 값의 제곱을 반환하는 시퀀스 자료형.\n",
    "# 숫자 리스트를 주기 보단, length 를 줘서 그 범위 안에서 숫자가 뽑히도록 만들어 놓은 것.\n",
    "# 시퀀스 자료형에서의 인덱스는 정수 값으로 전달하며, 만일 인덱스 범위를 초과하면 indexError 에러를 발생해야 한다.\n",
    "# 만약 데이터의 자료형이 맞지 않으면 TypeError 에러를 발생한다.\n",
    "\n",
    "class Square:\n",
    "    def __init__(self, end):\n",
    "        self.end = end\n",
    "    def __len__(self):\n",
    "        return self.end\n",
    "    def __getitem__(self, k):\n",
    "        if type(k) != int: \n",
    "            raise TypeError('...')\n",
    "        if k < 0 or self.end <= k:\n",
    "            raise IndexError('index {} out of range'.format(k))\n",
    "        return k * k\n",
    "    \n",
    "s1 = Square(10) # s1 은 길이가 10인 시퀀스형 데이터 클래스. 그 숫자들은 __getitem__ 에 있는데, 0~9 까지이다.(범위로 줬음)\n",
    "# 그러니까 시퀀스형 데이터를 클래스로 만들 때, 일일이 다 만들 필요 없이 저렇게 범위로 만들면 된다!\n",
    "len(s1)\n",
    "print(s1[4])\n",
    "# print(s1['a'])#이건 error 가 나옴\n",
    "\n",
    "for x in s1:\n",
    "    print(x, end = ' ') \n",
    "# for 문은 인스턴스 객체 s2의 __getitem()__메서드를 0부터 호출하기 시작한다.\n",
    "# 이 메서드에 의해서 반환된 값이 x에 전달되고, 내부의 print() 함수가 실행된다.\n",
    "# IndexError 예외가 발생하면 반복을 중단한다. 인스턴스 객체 s1은 제한된 범위 내에서 시퀀스형 객체로서의 역할을 충실히 수행\n",
    "# 시퀀스 자료형인 클래스를 만들기 위해서는, 시퀀스 자료형에 대한 메서드 목록을 참고해서 정의하면 된다."
   ]
  },
  {
   "cell_type": "code",
   "execution_count": 18,
   "metadata": {
    "collapsed": false
   },
   "outputs": [
    {
     "name": "stdout",
     "output_type": "stream",
     "text": [
      "[0, 1, 4, 9, 16, 25, 36, 49, 64, 81]\n",
      "(0, 1, 4, 9, 16, 25, 36, 49, 64, 81)\n"
     ]
    }
   ],
   "source": [
    "print(list(s1)) # 자료형 변환. __getitems__() 메서드만 정의되어 있으면, 다른 시퀀스 자료형으로 변환하는 것이 가능\n",
    "print(tuple(s1))"
   ]
  },
  {
   "cell_type": "code",
   "execution_count": 7,
   "metadata": {
    "collapsed": false
   },
   "outputs": [
    {
     "name": "stdout",
     "output_type": "stream",
     "text": [
      "<class 'slice'>\n",
      "1 10 2\n",
      "slice(None, 10, None)\n",
      "slice(1, 10, None)\n",
      "slice(1, 10, 3)\n",
      "16\n",
      "[1, 4, 9, 16]\n",
      "[1, 9, 25, 49, 81]\n",
      "<map object at 0x005CDD90>\n"
     ]
    }
   ],
   "source": [
    "# 슬라이싱\n",
    "# 그니까, 내가 새로운 클래스를 만들었는데 이 클래스가 시퀀스 형이길 원할 때. 이 시퀀스로 슬라이싱 하기를 원할 때\n",
    "# 이 클래스로 사전 자료형 처리를 하고 싶을 때. 이 클래스로 연산을 하고 싶을 때!! 클래스에 연산자 중복을 하는 거. \n",
    "# 클래스를 설계하는 거임. 이 클래스가 어떤 연산을 하게끔 하는가 미리 설계하고, 그에 맞는 메서드 넣어주고!\n",
    "\n",
    "# 슬라이싱에서는 인덱싱에서와 같이 _getitem__()와 __setitem__(), __delitem__() 메서드를 사용하지만 \n",
    "# 인수로 정수가 아닌 slice 객체를 전달.\n",
    "# 우선 slice 객체를 살펴보자. 이 객체는 start와 step, stop 세 개의 멤버를 가지는 단순간 객체. \n",
    "# 형식은 slice([start,] stop [, step])\n",
    "\n",
    "s = slice(1, 10, 2)\n",
    "s\n",
    "print(type(s))\n",
    "print(s.start, s.stop, s.step)\n",
    "\n",
    "# 만약에 slice 객체를 전달할 때 인수가 생략되면 None 객체를 기본 값으로 가진다\n",
    "print(slice(10))\n",
    "print(slice(1,10))\n",
    "print(slice(1, 10, 3))\n",
    "\n",
    "# 슬라이싱 m[1:5]는 m.__getitem__(slice(1,5))를 호출한다. 즉, 인덱싱의 정수 인덱스 대신에 slice 객체가 범위를 나타내는데 사용.\n",
    "# 확장 슬라이싱 m[1:10:2] 는 m._getitem__(slice(1, 10, 2))를 호출한다.\n",
    "\n",
    "class Square:\n",
    "    def __init__(self, end):\n",
    "        self.end = end\n",
    "    def __len__(self):\n",
    "        return self.end\n",
    "    def __getitem__(self, k):\n",
    "        if type(k) == slice:\n",
    "            start = k.start or 0\n",
    "            stop = k.stop or self.end\n",
    "            step = k.step or 1\n",
    "            return map(self.__getitem__, range(start, stop, step))\n",
    "        elif type(k) == int:\n",
    "            if k < 0 or self.end <= k:\n",
    "                raise IndexError(k)\n",
    "            return k * k\n",
    "        else:\n",
    "            raise TypeError('...')\n",
    "s = Square(10)\n",
    "print(s[4]) # 인덱싱\n",
    "print(list(s[1:5])) # 슬라이싱\n",
    "print(list(s[1:10:2])) # 간격은 2로\n",
    "print(s[:]) # 전체 범위\n",
    "\n",
    "# __getitem__() 메서드의 정의를 보면, 가장 먼저 k의 자료형 검사. k가 slice형이면 슬라이싱을, 아니면 인덱싱을 적용한다.\n",
    "# 슬라이싱 부분에서 start와 stop, step을 별도의 지역 변수에 치환한 이유는 range()함수가 정수 인수만을 요구하기 때문.\n",
    "# 최종적으로 map()함수에 의해서 각 인덱스 값의 제곱에 대한 리스트 반환."
   ]
  },
  {
   "cell_type": "code",
   "execution_count": 12,
   "metadata": {
    "collapsed": false
   },
   "outputs": [
    {
     "name": "stdout",
     "output_type": "stream",
     "text": [
      "light\n",
      "darkness\n",
      "2\n"
     ]
    }
   ],
   "source": [
    "# 매핑 자료형\n",
    "# 매핑 자료형에서 object.__getitem__(self, key) 등의 메서드의 key 는 사전의 키로 사용할 수 있는 임의의 객체가 될 수 있다.\n",
    "# 만일 key에 대응하는 값을 찾을 수 없으면 KeyError 에러를 발생. 다음 클래스 MyDict 는 치환(d[key]=value), 크기(len(d))정보를\n",
    "# 얻을 수 있는 간단한 클래스\n",
    "\n",
    "class MyDict:\n",
    "    def __init__(self):\n",
    "        self.d = {}\n",
    "    def __getitem__(self, k): # key\n",
    "        return self.d[k]\n",
    "    def __setitem__(self, k, v):\n",
    "        self.d[k] = v\n",
    "    def __len__(self):\n",
    "        return len(self.d)\n",
    "\n",
    "m = MyDict() # __init__() k\\메서드 호출\n",
    "m['day'] = 'light' # m.__setitem__('day', 'light')\n",
    "m.__setitem__('night', 'darkness')\n",
    "print(m['day']) # m.__getitem__('day')\n",
    "print(m['night']) # m.__getitem__('night')\n",
    "print(len(m))\n",
    "\n",
    "# 여태까지 int, float, list, tuple, str, dictionary 이런 자료형에 대해서 +,-,*,/, append, sort 이런 메서드를 \n",
    "# 사용했던 건, 저 자료형에 이런 메서드들이 정의되어 있었기 때문.\n",
    "# 지금도 클래스를 만들면 클래스는 하나의 새로운 자료형이기 때문에, 그 자료형이 사용 할 수 있는 연산자들을 우리가 정할 수 있는데\n",
    "# 우리가 보통 사용하는 연산자 그대로 쓰기 위해서 위와 같이 지정된 name 을 가지고 메서드를 만드는 것임. \n",
    "# 뭐 어려운 게 아니고, 내가 어떤 클래스(자료형)을 만드냐에 따라, 시퀀싱을 하느냐, 걍 사칙연산만 하느냐 아니면 둘다 하느냐\n",
    "# 또 키를 가지고 매핑하느냐 설계하면됨!!"
   ]
  },
  {
   "cell_type": "code",
   "execution_count": null,
   "metadata": {
    "collapsed": true
   },
   "outputs": [],
   "source": [
    "# 문자열 변환 연산\n",
    "# 인스턴스 객체를 print() 함수로 출력할 때 내가 원하는 형식으로 출력하거나, 인스턴스 객체를 사람이 읽기 좋은 형태로\n",
    "# 변환하려면 문자열로 변환하는 기능이 필요하다. 이 절에서는 인스턴스 객체를 문자열로 변환하는 기능에 대해서 살펴보자\n",
    "# 문자열로의 변환 : __str__()와 __repr__() 메서드 \n",
    "# 인스턴스 객체를 문자열로 변환하는 메서드는 __str__()와 __repr__() 두가지이다. 이 두메서드는 호출되는 시점이 조금 다름.\n",
    "\n",
    "class StringRepr:\n",
    "    def __repr__(self):\n",
    "        return 'repr called'\n",
    "    def __str__(self):\n",
    "        return 'str called'\n",
    "s = StringRepr()\n",
    "print(s)\n",
    "str(s)\n",
    "repr(s)\n",
    "\n",
    "# print() 함수와 str() 함수에 의해서 __str__() 메서드가 호출. repr() 함수에 의해서 __repr__() 메서드가 호출. \n",
    "# __repr__() 메서드의 목적은 객체를 대표해서 유일하게 표현할 수 있는 문자열을 만들어 내는 것.\n",
    "# 즉 다른 객체의 출력과 혼동되지 않는 모양으로 표현해야 한다는 의미"
   ]
  },
  {
   "cell_type": "code",
   "execution_count": 22,
   "metadata": {
    "collapsed": false
   },
   "outputs": [
    {
     "data": {
      "text/plain": [
       "'2'"
      ]
     },
     "execution_count": 22,
     "metadata": {},
     "output_type": "execute_result"
    }
   ],
   "source": [
    "repr(2)"
   ]
  },
  {
   "cell_type": "code",
   "execution_count": 24,
   "metadata": {
    "collapsed": false
   },
   "outputs": [
    {
     "data": {
      "text/plain": [
       "\"'2'\""
      ]
     },
     "execution_count": 24,
     "metadata": {},
     "output_type": "execute_result"
    }
   ],
   "source": [
    "repr('2')"
   ]
  },
  {
   "cell_type": "code",
   "execution_count": 25,
   "metadata": {
    "collapsed": false
   },
   "outputs": [
    {
     "data": {
      "text/plain": [
       "\"'abc'\""
      ]
     },
     "execution_count": 25,
     "metadata": {},
     "output_type": "execute_result"
    }
   ],
   "source": [
    "repr('abc') # 문자열 'abc'에 대한 repr 문자열 표현"
   ]
  },
  {
   "cell_type": "code",
   "execution_count": 26,
   "metadata": {
    "collapsed": false
   },
   "outputs": [
    {
     "data": {
      "text/plain": [
       "'[1, 2, 3]'"
      ]
     },
     "execution_count": 26,
     "metadata": {},
     "output_type": "execute_result"
    }
   ],
   "source": [
    "repr([1, 2, 3]) # fltmxm [1, 2, 3]에 대한 repr 문자열 표현"
   ]
  },
  {
   "cell_type": "code",
   "execution_count": 27,
   "metadata": {
    "collapsed": false
   },
   "outputs": [
    {
     "data": {
      "text/plain": [
       "'2'"
      ]
     },
     "execution_count": 27,
     "metadata": {},
     "output_type": "execute_result"
    }
   ],
   "source": [
    "# 다음으로 __str__() 메서드의 목적은 사용자가 읽기 편한 형태의 표현으로 출력\n",
    "str(2)"
   ]
  },
  {
   "cell_type": "code",
   "execution_count": 28,
   "metadata": {
    "collapsed": false
   },
   "outputs": [
    {
     "data": {
      "text/plain": [
       "'2'"
      ]
     },
     "execution_count": 28,
     "metadata": {},
     "output_type": "execute_result"
    }
   ],
   "source": [
    "str('2') # repr('2') 는 \"2'\""
   ]
  },
  {
   "cell_type": "code",
   "execution_count": 29,
   "metadata": {
    "collapsed": false
   },
   "outputs": [
    {
     "data": {
      "text/plain": [
       "\"[2, '2']\""
      ]
     },
     "execution_count": 29,
     "metadata": {},
     "output_type": "execute_result"
    }
   ],
   "source": [
    "# 재밌는 건 컨테이너 자료형(리스트와 사전 등)의 __str__()메서드는 내부 객체의 __repr__() 메서드 사용\n",
    "L = [2, '2']\n",
    "str(L)"
   ]
  },
  {
   "cell_type": "code",
   "execution_count": null,
   "metadata": {
    "collapsed": true
   },
   "outputs": [],
   "source": [
    "repr(L)"
   ]
  },
  {
   "cell_type": "code",
   "execution_count": 31,
   "metadata": {
    "collapsed": false
   },
   "outputs": [
    {
     "data": {
      "text/plain": [
       "True"
      ]
     },
     "execution_count": 31,
     "metadata": {},
     "output_type": "execute_result"
    }
   ],
   "source": [
    "str(L) == repr(L)"
   ]
  },
  {
   "cell_type": "code",
   "execution_count": 3,
   "metadata": {
    "collapsed": false
   },
   "outputs": [
    {
     "name": "stdout",
     "output_type": "stream",
     "text": [
      "repr called\n",
      "repr called\n",
      "repr called\n"
     ]
    }
   ],
   "source": [
    "# 만일 __str__() 메서드를 호출할 상황에서 __str__()메서드가 정의되어 있지 않으면 __repr__() 메서드가 대신 호출\n",
    "class StringRepr:\n",
    "    def __repr__(self):\n",
    "        return 'repr called'\n",
    "\n",
    "s = StringRepr()\n",
    "\n",
    "print(str(s))\n",
    "print(repr(s))\n",
    "print(s)"
   ]
  },
  {
   "cell_type": "code",
   "execution_count": 4,
   "metadata": {
    "collapsed": false
   },
   "outputs": [
    {
     "name": "stdout",
     "output_type": "stream",
     "text": [
      "str called\n",
      "<__main__.StringRepr object at 0x04F30E10>\n"
     ]
    }
   ],
   "source": [
    "# 그러나 __repr_() 메서드가 정의되어 있지 않은 경우에 __str__() 메서드가 __repr__() 메서드를 대신하지는 않는다.\n",
    "# __repr__() 은 특별함, 대표성을 가짐. 자신은 남을 대체할 수 있으나, 다른 이가 자신을 대체할 수는 없다.\n",
    "\n",
    "class StringRepr:\n",
    "    def __str__(self):\n",
    "        return 'str called'\n",
    "    \n",
    "s = StringRepr()\n",
    "print(str(s))\n",
    "print(repr(s))"
   ]
  },
  {
   "cell_type": "code",
   "execution_count": 6,
   "metadata": {
    "collapsed": false
   },
   "outputs": [
    {
     "data": {
      "text/plain": [
       "b'bytes called'"
      ]
     },
     "execution_count": 6,
     "metadata": {},
     "output_type": "execute_result"
    }
   ],
   "source": [
    "# 바이트로의 변환 : __bytes__() 메서드\n",
    "# 문자열이 아닌 바이트 자료형으로 변환하려면 __bytes__() 메서드를 사용. b.__bytes__() 메서드는 bytes(b) 함수에 의해서 호출\n",
    "\n",
    "class BytesRepr:\n",
    "    def __bytes__(self):\n",
    "        return 'bytes called'.encode('utf-8')\n",
    "\n",
    "b = BytesRepr()\n",
    "bytes(b)"
   ]
  },
  {
   "cell_type": "code",
   "execution_count": 17,
   "metadata": {
    "collapsed": false
   },
   "outputs": [
    {
     "name": "stdout",
     "output_type": "stream",
     "text": [
      "u^20\n",
      "l\n",
      "*^20\n",
      "here\n",
      "       HELLO         hello *******Hello********\n"
     ]
    }
   ],
   "source": [
    "# 서식 기호 새로 지정하기: __format__() 메서드\n",
    "# __format__() 메서드는 format() 함수나 문자열의 format() 메서드에 의해서 호출된다. \n",
    "# format(x, \"o\") # x.__format__(\"o\") 호출\n",
    "# \"x:{:o}\".format(x) # x.__format__(\"o\") 호출\n",
    "\n",
    "# __format__() 메서드에 전달되는 변환 기호는 사용자가 새로 정의 할 수 있음.\n",
    "# 다음은 대문자 변환을 위한 새로운 변환 기호 u와 소문자 변환을 위한 새로운 변환 기호 l을 정의하는 예\n",
    "# 변환 기호가 요구될 때는 __format__() 메서드가 호출\n",
    "\n",
    "class MyStr:\n",
    "    def __init__(self, s):\n",
    "        self.s = s\n",
    "    def __format__(self, fmt):\n",
    "        print(fmt) # 서식 문자열 확인\n",
    "        if fmt[0] == 'u': # u이면 대문자로 변환\n",
    "            s = self.s.upper()\n",
    "            fmt = fmt[1:]\n",
    "        elif fmt[0] == 'l': # l이면 소문자로 변환\n",
    "            s = self.s.lower()\n",
    "            fmt = fmt[1:]\n",
    "        else:\n",
    "            s = str(self.s)\n",
    "        return s.__format__(fmt)\n",
    "    \n",
    "# 순서가 채우기 문자가 u, l 아니면 다른거인지 확인하고\n",
    "# 반환할 string 만들고.\n",
    "# 그리고 채우기 문자 뒤에는 format 형식이니, 기존의 __format__ 함수 이용하여 format에 맞게 출력.\n",
    "    \n",
    "s = MyStr('Hello')\n",
    "print('{0:u^20} {0:l} {0:*^20}'.format(s))  # * : 채우기 문자, ^ : 가운데 정렬, 20:확보자리수"
   ]
  },
  {
   "cell_type": "code",
   "execution_count": 18,
   "metadata": {
    "collapsed": false
   },
   "outputs": [
    {
     "name": "stdout",
     "output_type": "stream",
     "text": [
      "False\n",
      "True\n"
     ]
    }
   ],
   "source": [
    "# 진릿값과 비교 연산\n",
    "# __bool__() 메서드\n",
    "# 클래스 인스턴스의 진릿값은 __bool__() 메서드의 반환 값으로 결정됨.\n",
    "# 만일 이 메서드가 정의되어 있지않으면 __len__() 메서드를 호출한 결과가 0이면 False로 간주하고, 아니면 true로 간주.\n",
    "# 만일, __len__()과 __bool__()메서드 모두가 정의되어 있지 않으면 모든 인스턴스는 True가 된다.\n",
    "\n",
    "class Truth:\n",
    "    def __init__(self, num):\n",
    "        self.num = num\n",
    "    def __bool__(self):\n",
    "        return self.num != 0\n",
    "    \n",
    "print(bool(Truth(0)))\n",
    "print(bool(Truth(3)))"
   ]
  },
  {
   "cell_type": "code",
   "execution_count": 24,
   "metadata": {
    "collapsed": false
   },
   "outputs": [
    {
     "name": "stdout",
     "output_type": "stream",
     "text": [
      "__lt__ called\n",
      "False\n",
      "__le__ called\n",
      "True\n",
      "__eq__ called\n",
      "True\n",
      "__eq__ called\n",
      "False\n"
     ]
    }
   ],
   "source": [
    "# 비교 연산\n",
    "# 파이썬의 모든 비교 연산은 중복이 간으하도록 메서드 이름이 준비되어 있다.\n",
    "# x<y 는 x.__lt__(y) 메서드로 확장되며, x<=y는 x.__le__(y) 메서드로 확장. 다른 연산자도 같은 방식\n",
    "# __eq__()와 __ne__()메서드는 각자의 논리로 적용될 수 있다. 즉, o==other이 참이라고해서 o!=other이 거짓이 아닐 수도 있다는 것.\n",
    "# 하지만 __ne__() 메서드가 정의되어 있지 않고, __eq__()메서드만 정의되어 있으면 o!=other 은 not(o==other) 의 논리 적용\n",
    "\n",
    "class Compare:\n",
    "    def __init__(self, n):\n",
    "        self.n = n\n",
    "    def __eq__(self, o):\n",
    "        print('__eq__ called')\n",
    "        return self.n == o\n",
    "    def __lt__(self, o):\n",
    "        print('__lt__ called')\n",
    "        return self.n < o\n",
    "    def __le__(self, o):\n",
    "        print('__le__ called')\n",
    "        return self.n <= o\n",
    "\n",
    "c = Compare(10)\n",
    "print(c<10) # c라는 객체 자체에 < operator 를 적용한 건데, c가 가지고 있는 특정한 값과 10을 비교하여 true, false 결과 줌.\n",
    "print(c<=10)\n",
    "# c>10 는 정의되어 있지 않아서 error 나옴\n",
    "print(c==10)\n",
    "print(c!=10) # __ne__()가 정의 되어 있으면 __ne__(), 아니면 not __eq__() "
   ]
  },
  {
   "cell_type": "code",
   "execution_count": 27,
   "metadata": {
    "collapsed": false
   },
   "outputs": [
    {
     "name": "stdout",
     "output_type": "stream",
     "text": [
      "1299869600\n",
      "1699342716\n",
      "{<__main__.Obj object at 0x00BB8E30>: 1, <__main__.Obj object at 0x00BB8E90>: 2}\n"
     ]
    },
    {
     "ename": "TypeError",
     "evalue": "not proper type",
     "output_type": "error",
     "traceback": [
      "\u001b[0;31m---------------------------------------------------------------------------\u001b[0m",
      "\u001b[0;31mTypeError\u001b[0m                                 Traceback (most recent call last)",
      "\u001b[0;32m<ipython-input-27-94c44fbc296a>\u001b[0m in \u001b[0;36m<module>\u001b[0;34m()\u001b[0m\n\u001b[1;32m     34\u001b[0m \u001b[1;33m\u001b[0m\u001b[0m\n\u001b[1;32m     35\u001b[0m \u001b[0mo1\u001b[0m \u001b[1;33m=\u001b[0m \u001b[0mObj2\u001b[0m\u001b[1;33m(\u001b[0m\u001b[1;36m1\u001b[0m\u001b[1;33m,\u001b[0m \u001b[1;36m2\u001b[0m\u001b[1;33m)\u001b[0m\u001b[1;33m\u001b[0m\u001b[0m\n\u001b[0;32m---> 36\u001b[0;31m \u001b[0md\u001b[0m \u001b[1;33m=\u001b[0m \u001b[1;33m{\u001b[0m\u001b[0mo1\u001b[0m\u001b[1;33m:\u001b[0m\u001b[1;36m1\u001b[0m\u001b[1;33m}\u001b[0m\u001b[1;33m\u001b[0m\u001b[0m\n\u001b[0m",
      "\u001b[0;32m<ipython-input-27-94c44fbc296a>\u001b[0m in \u001b[0;36m__hash__\u001b[0;34m(self)\u001b[0m\n\u001b[1;32m     31\u001b[0m         \u001b[0mself\u001b[0m\u001b[1;33m.\u001b[0m\u001b[0mb\u001b[0m \u001b[1;33m=\u001b[0m \u001b[0mb\u001b[0m\u001b[1;33m\u001b[0m\u001b[0m\n\u001b[1;32m     32\u001b[0m     \u001b[1;32mdef\u001b[0m \u001b[0m__hash__\u001b[0m\u001b[1;33m(\u001b[0m\u001b[0mself\u001b[0m\u001b[1;33m)\u001b[0m\u001b[1;33m:\u001b[0m\u001b[1;33m\u001b[0m\u001b[0m\n\u001b[0;32m---> 33\u001b[0;31m         \u001b[1;32mraise\u001b[0m \u001b[0mTypeError\u001b[0m\u001b[1;33m(\u001b[0m\u001b[1;34m'not proper type'\u001b[0m\u001b[1;33m)\u001b[0m\u001b[1;33m\u001b[0m\u001b[0m\n\u001b[0m\u001b[1;32m     34\u001b[0m \u001b[1;33m\u001b[0m\u001b[0m\n\u001b[1;32m     35\u001b[0m \u001b[0mo1\u001b[0m \u001b[1;33m=\u001b[0m \u001b[0mObj2\u001b[0m\u001b[1;33m(\u001b[0m\u001b[1;36m1\u001b[0m\u001b[1;33m,\u001b[0m \u001b[1;36m2\u001b[0m\u001b[1;33m)\u001b[0m\u001b[1;33m\u001b[0m\u001b[0m\n",
      "\u001b[0;31mTypeError\u001b[0m: not proper type"
     ]
    }
   ],
   "source": [
    "# 해시 값에 접근하기 : __hash__()메서드\n",
    "# 해시 값을 돌려주는 내장 함수 hash(m)가 호출될 때, m.__hash__() 메서드가 호출된다.\n",
    "# hash()함수를 사용한 예로, 사전은 (키, 값)쌍을 저장할 때 키에 대한 hash()함수의 호출 결과를 값을 저장하기 위한 해시 키로 사용.\n",
    "# __hash__() 메서드는 정수를 반환해야 함. \n",
    "# 이 메서드를 정의한 클래스는 __eq__() 메서드도 함께 정의해야 해시가 가능한 객체로 취급된다.\n",
    "\n",
    "class Obj:\n",
    "    def __init__(self, a, b):\n",
    "        self.a = a\n",
    "        self.b = b\n",
    "    def _key(self):\n",
    "        return (self.a, self.b)\n",
    "    def __eq__(self, o):\n",
    "        return self._key() == o._key()\n",
    "    def __hash__(self):\n",
    "        return hash(self._key())\n",
    "    \n",
    "o1 = Obj(1, 2)\n",
    "o2 = Obj(3, 4)\n",
    "print(hash(o1))\n",
    "print(hash(o2))\n",
    "d = {o1:1, o2:2}\n",
    "print(d)\n",
    "\n",
    "# 해시 키는 변경이 가능해서는 안 된다. 만일 변경 간으한 자료형으로 클래스를 정의하면 hash()함수를 호출했을 때 \n",
    "# TypeError 에러를 반환해서 해시 키로 사용할 수 없도록 해야 한다.\n",
    "\n",
    "class Obj2:\n",
    "    def __init__(self, a, b):\n",
    "        self.a = a\n",
    "        self.b = b\n",
    "    def __hash__(self):\n",
    "        raise TypeError('not proper type')\n",
    "        \n",
    "o1 = Obj2(1, 2)\n",
    "d = {o1:1}"
   ]
  }
 ],
 "metadata": {
  "kernelspec": {
   "display_name": "Python 3",
   "language": "python",
   "name": "python3"
  },
  "language_info": {
   "codemirror_mode": {
    "name": "ipython",
    "version": 3
   },
   "file_extension": ".py",
   "mimetype": "text/x-python",
   "name": "python",
   "nbconvert_exporter": "python",
   "pygments_lexer": "ipython3",
   "version": "3.5.2"
  }
 },
 "nbformat": 4,
 "nbformat_minor": 1
}
