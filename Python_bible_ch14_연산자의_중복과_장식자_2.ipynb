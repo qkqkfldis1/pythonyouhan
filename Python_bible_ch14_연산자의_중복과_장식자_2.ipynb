{
 "cells": [
  {
   "cell_type": "code",
   "execution_count": 1,
   "metadata": {
    "collapsed": false
   },
   "outputs": [
    {
     "data": {
      "application/javascript": [
       "\n",
       "Jupyter.keyboard_manager.command_shortcuts.add_shortcut('r', {\n",
       "    help : 'run cell', \n",
       "    help_index : 'zz',\n",
       "    handler : function (event) {\n",
       "        \n",
       "        \n",
       "        IPython.notebook.execute_cell();\n",
       "        return false;\n",
       "    }}\n",
       ");"
      ],
      "text/plain": [
       "<IPython.core.display.Javascript object>"
      ]
     },
     "metadata": {},
     "output_type": "display_data"
    }
   ],
   "source": [
    "%%javascript\n",
    "\n",
    "Jupyter.keyboard_manager.command_shortcuts.add_shortcut('r', {\n",
    "    help : 'run cell', \n",
    "    help_index : 'zz',\n",
    "    handler : function (event) {\n",
    "        \n",
    "        \n",
    "        IPython.notebook.execute_cell();\n",
    "        return false;\n",
    "    }}\n",
    ");\n"
   ]
  },
  {
   "cell_type": "code",
   "execution_count": 2,
   "metadata": {
    "collapsed": false
   },
   "outputs": [
    {
     "name": "stdout",
     "output_type": "stream",
     "text": [
      "10\n",
      "__getattr__ test\n",
      "10\n"
     ]
    }
   ],
   "source": [
    "# 속성 값에 접근하기\n",
    "# __getattr__()와 _getattribute__() 메서드\n",
    "# 인스턴스 객체에 대한 일반적인 접근 방법인 obj.attr() 메서드는 getattr(obj, 'attr')로 수행된다.\n",
    "# 우선 __getattr__()과 _getattribute__() 의 차이.\n",
    "# __getattr__() 메서드는 이름 공간에 정의되지 않는 이름에 접근할 때 호출되며 이에 대해서 처리 가능.\n",
    "\n",
    "class GetAttr1(object):\n",
    "    def __getattr__(self, x):\n",
    "        print('__getattr__', x)\n",
    "        if x == 'test':\n",
    "            return 10\n",
    "        raise AttributeError('Not good')\n",
    "        \n",
    "g1 = GetAttr1()\n",
    "g1.c = 10\n",
    "print(g1.c)\n",
    "# print(g1.a) # __getattr__() 메서드가 호출된다.\n",
    "print(g1.test) # 정의되지 않았지만 준비된 이름.\n",
    "# 이 예제로 안 것. 그러니까 __getattr__() 은 객체 안, 즉 객체 이름공간 안에 정의 되지 않는 이름에 접근 하려고 하면 호출 됨."
   ]
  },
  {
   "cell_type": "code",
   "execution_count": 5,
   "metadata": {
    "collapsed": false
   },
   "outputs": [
    {
     "name": "stdout",
     "output_type": "stream",
     "text": [
      "__getattribute__ called c\n",
      "10\n",
      "__getattribute__ called a\n"
     ]
    },
    {
     "ename": "AttributeError",
     "evalue": "'GetAttr2' object has no attribute 'a'",
     "output_type": "error",
     "traceback": [
      "\u001b[0;31m---------------------------------------------------------------------------\u001b[0m",
      "\u001b[0;31mAttributeError\u001b[0m                            Traceback (most recent call last)",
      "\u001b[0;32m<ipython-input-5-2d504c7218fb>\u001b[0m in \u001b[0;36m<module>\u001b[0;34m()\u001b[0m\n\u001b[1;32m      8\u001b[0m \u001b[0mg2\u001b[0m\u001b[1;33m.\u001b[0m\u001b[0mc\u001b[0m \u001b[1;33m=\u001b[0m \u001b[1;36m10\u001b[0m\u001b[1;33m\u001b[0m\u001b[0m\n\u001b[1;32m      9\u001b[0m \u001b[0mprint\u001b[0m\u001b[1;33m(\u001b[0m\u001b[0mg2\u001b[0m\u001b[1;33m.\u001b[0m\u001b[0mc\u001b[0m\u001b[1;33m)\u001b[0m\u001b[1;33m\u001b[0m\u001b[0m\n\u001b[0;32m---> 10\u001b[0;31m \u001b[0mprint\u001b[0m\u001b[1;33m(\u001b[0m\u001b[0mg2\u001b[0m\u001b[1;33m.\u001b[0m\u001b[0ma\u001b[0m\u001b[1;33m)\u001b[0m\u001b[1;33m\u001b[0m\u001b[0m\n\u001b[0m",
      "\u001b[0;32m<ipython-input-5-2d504c7218fb>\u001b[0m in \u001b[0;36m__getattribute__\u001b[0;34m(self, x)\u001b[0m\n\u001b[1;32m      3\u001b[0m     \u001b[1;32mdef\u001b[0m \u001b[0m__getattribute__\u001b[0m\u001b[1;33m(\u001b[0m\u001b[0mself\u001b[0m\u001b[1;33m,\u001b[0m \u001b[0mx\u001b[0m\u001b[1;33m)\u001b[0m\u001b[1;33m:\u001b[0m\u001b[1;33m\u001b[0m\u001b[0m\n\u001b[1;32m      4\u001b[0m         \u001b[0mprint\u001b[0m\u001b[1;33m(\u001b[0m\u001b[1;34m'__getattribute__ called'\u001b[0m\u001b[1;33m,\u001b[0m \u001b[0mx\u001b[0m\u001b[1;33m)\u001b[0m\u001b[1;33m\u001b[0m\u001b[0m\n\u001b[0;32m----> 5\u001b[0;31m         \u001b[1;32mreturn\u001b[0m \u001b[0mobject\u001b[0m\u001b[1;33m.\u001b[0m\u001b[0m__getattribute__\u001b[0m\u001b[1;33m(\u001b[0m\u001b[0mself\u001b[0m\u001b[1;33m,\u001b[0m \u001b[0mx\u001b[0m\u001b[1;33m)\u001b[0m\u001b[1;33m\u001b[0m\u001b[0m\n\u001b[0m\u001b[1;32m      6\u001b[0m \u001b[1;33m\u001b[0m\u001b[0m\n\u001b[1;32m      7\u001b[0m \u001b[0mg2\u001b[0m \u001b[1;33m=\u001b[0m \u001b[0mGetAttr2\u001b[0m\u001b[1;33m(\u001b[0m\u001b[1;33m)\u001b[0m\u001b[1;33m\u001b[0m\u001b[0m\n",
      "\u001b[0;31mAttributeError\u001b[0m: 'GetAttr2' object has no attribute 'a'"
     ]
    }
   ],
   "source": [
    "# __getattribute__() 메서드는 이름 정의 여부에 관계없이 모든 속성에 접근하면 호출된다.\n",
    "class GetAttr2(object):\n",
    "    def __getattribute__(self, x):\n",
    "        print('__getattribute__ called', x)\n",
    "        return object.__getattribute__(self, x)\n",
    "    \n",
    "g2 = GetAttr2()\n",
    "g2.c = 10\n",
    "print(g2.c)\n",
    "print(g2.a) # __getattr__()와는 다르게 정의되지 않은 이름도 호출한다. \n",
    "# 따라서 __getattribute__()메서드는 호출되는 이름 전체에 대한 제어권을 얻어 낸다."
   ]
  },
  {
   "cell_type": "code",
   "execution_count": null,
   "metadata": {
    "collapsed": true
   },
   "outputs": [],
   "source": [
    "# 두 메서드가 모두 정의 되어 있는 예\n",
    "# 정의되어 있는 이름에 접근할 때는 __getattribute__() 메서드를 호출하고, 정의되어 있지 않은 이름에 접근할 때는\n",
    "# __getattribute__()와 __getattr__() 메서드 모두를 호출한다.\n",
    "\n",
    "class GetAttr3(object):\n",
    "    def __getattr__(self, x):\n",
    "        print('__getattr__', x)\n",
    "        raise AttributeError\n",
    "    def __getattribute__(self, x):\n",
    "        print('__getattribute__ called..', x)\n",
    "        return object.__getattribute__(self, x)\n",
    "    \n",
    "g3 = GetAttr3()\n",
    "g3.c = 10\n",
    "print(g3.c) # 정의된 속성에 접근 __getattribute__()만 호출\n",
    "print(g3.a) # 정의되어 있지 않은 속성에 접근 __getattr__(), __getattribute__() 둘다 호출\n",
    "\n",
    "# 그니까 걍 어떤 객체에 접근하려고 하면 커맨드 창에서 그 객체를 타이핑하면 나올 것임.\n",
    "# 이 때 타이핑하면 그 객체의 속성이 나오는데 이때 함수가 __getattr__, __getattribute__ 메서드.\n",
    "# 객체에 접근했을 때, 단순히 접근만 했을 때 돌려주는 속성을 정해주는 파트.\n",
    "# 주의할 점은, self.__getattribute__(x)와 같이 호출하면 재귀적으로 자기 자신을 무한히 호출함. \n",
    "# 그러므로 상위 클래스를 통해서 object._getattribute__(self, x)와 같은 식으로 접근해야 함."
   ]
  },
  {
   "cell_type": "code",
   "execution_count": 9,
   "metadata": {
    "collapsed": false
   },
   "outputs": [
    {
     "name": "stdout",
     "output_type": "stream",
     "text": [
      "__setattr__(x) = 10 called\n",
      "10\n",
      "__delattr__(x) called\n"
     ]
    },
    {
     "ename": "AttributeError",
     "evalue": "'Attr' object has no attribute 'x'",
     "output_type": "error",
     "traceback": [
      "\u001b[0;31m---------------------------------------------------------------------------\u001b[0m",
      "\u001b[0;31mAttributeError\u001b[0m                            Traceback (most recent call last)",
      "\u001b[0;32m<ipython-input-9-7e9ad951899c>\u001b[0m in \u001b[0;36m<module>\u001b[0;34m()\u001b[0m\n\u001b[1;32m     15\u001b[0m \u001b[0mprint\u001b[0m\u001b[1;33m(\u001b[0m\u001b[0ma\u001b[0m\u001b[1;33m.\u001b[0m\u001b[0mx\u001b[0m\u001b[1;33m)\u001b[0m\u001b[1;33m\u001b[0m\u001b[0m\n\u001b[1;32m     16\u001b[0m \u001b[1;32mdel\u001b[0m \u001b[0ma\u001b[0m\u001b[1;33m.\u001b[0m\u001b[0mx\u001b[0m\u001b[1;33m\u001b[0m\u001b[0m\n\u001b[0;32m---> 17\u001b[0;31m \u001b[0mprint\u001b[0m\u001b[1;33m(\u001b[0m\u001b[0ma\u001b[0m\u001b[1;33m.\u001b[0m\u001b[0mx\u001b[0m\u001b[1;33m)\u001b[0m\u001b[1;33m\u001b[0m\u001b[0m\n\u001b[0m\u001b[1;32m     18\u001b[0m \u001b[1;33m\u001b[0m\u001b[0m\n",
      "\u001b[0;31mAttributeError\u001b[0m: 'Attr' object has no attribute 'x'"
     ]
    }
   ],
   "source": [
    "# __setattr__()와 __delattr__() 메서드\n",
    "# 인스턴스 객체에서 속성을 설정할 때는 __setattr__()메서드를, 속성을 삭제할 때는 __delattr__메서드를 사용.\n",
    "# obj.x = o 는 setattr(obj, 'x', o)로 수행되며 obj.__setattr__('x', o)를 호출하고 \n",
    "# del obj.x 는 delattr(obj, 'x')로 수행되며 obj.__delattr__('x')를 호출한다.\n",
    "\n",
    "class Attr:\n",
    "    def __setattr__(self, name, value):\n",
    "        print('__setattr__(%s) = %s called' % (name, value))\n",
    "        object.__setattr__(self, name, value)\n",
    "    def __delattr__(self, name):\n",
    "        print('__delattr__(%s) called' % name)\n",
    "        object.__delattr__(self, name)\n",
    "a = Attr()\n",
    "a.x = 10\n",
    "print(a.x)\n",
    "del a.x\n",
    "print(a.x)\n",
    "                    "
   ]
  },
  {
   "cell_type": "code",
   "execution_count": 24,
   "metadata": {
    "collapsed": false
   },
   "outputs": [
    {
     "name": "stdout",
     "output_type": "stream",
     "text": [
      "0! = 1\n",
      "1! = 1\n",
      "2! = 2\n",
      "3! = 6\n",
      "4! = 24\n",
      "5! = 120\n",
      "6! = 720\n",
      "7! = 5040\n",
      "8! = 40320\n",
      "9! = 362880\n"
     ]
    },
    {
     "data": {
      "text/plain": [
       "dict_items([(0, 1), (1, 1), (2, 2), (3, 6), (4, 24), (5, 120), (6, 720), (7, 5040), (8, 40320), (9, 362880)])"
      ]
     },
     "execution_count": 24,
     "metadata": {},
     "output_type": "execute_result"
    }
   ],
   "source": [
    "# 인스턴스 객체를 호출하기 : __call__() 메서드\n",
    "# 어떤 클래스 인스턴스가 __call__() 메서드를 가지고 있으면, 해당 인스턴스 객체는 함수와 같은 모양으로 호출할 수 있다.\n",
    "# 인스턴스 객체 x에 대해 다음과 같이 확장된다. x(a1, a2, a3) > x.__call__(a1, a2, a3)\n",
    "\n",
    "# 다음 클래스 Factorial 은 고속 처리를 위하여 기억 기법 사용. 한 번 계산된 팩토리얼 값은 인스턴스 객체의 cache 멤버에\n",
    "# 저장되어 있다가 필요할 때 다시 사용한다. 팩토리얼 계산은 인스턴스 객체의 __call__() 메서드를 호출하여 이루어진다.\n",
    "# 이 예제 좋네. __call__ 메서드를 가진 객체는 함수처럼 인수를 전달하여 호출할 수 있어서 함수와 비슷하게 동작.\n",
    "# 다시 계산하면 비효율적이니, cache를 두어 (기억 기법), 한번 계산하고 난 다음에는 바로 참고만 하도록 함.\n",
    "class Factorial:\n",
    "    def __init__(self):\n",
    "        self.cache = {}\n",
    "    def __call__(self, n):\n",
    "        if n not in self.cache:\n",
    "            if n == 0:\n",
    "                self.cache[n] = 1\n",
    "            else:\n",
    "                self.cache[n] = n * self.__call__(n-1)\n",
    "        return self.cache[n]\n",
    "fact = Factorial()\n",
    "for i in range(10):\n",
    "    print('{}! = {}'.format(i, fact(i)))\n",
    "    \n",
    "fact.cache.items()"
   ]
  },
  {
   "cell_type": "code",
   "execution_count": 29,
   "metadata": {
    "collapsed": false
   },
   "outputs": [
    {
     "name": "stdout",
     "output_type": "stream",
     "text": [
      "True\n",
      "True\n"
     ]
    }
   ],
   "source": [
    "# 호출 가능한지 확인하기\n",
    "# 어떤 객체가 호출 가능한지 알아보려면 collections.Callable의 인스턴스 객체인지 확인한다.\n",
    "import collections\n",
    "def f():\n",
    "    pass\n",
    "print(isinstance(f, collections.Callable))\n",
    "fact = Factorial()\n",
    "print(isinstance(fact, collections.Callable))"
   ]
  },
  {
   "cell_type": "code",
   "execution_count": 5,
   "metadata": {
    "collapsed": false
   },
   "outputs": [
    {
     "name": "stdout",
     "output_type": "stream",
     "text": [
      "__new__ called <class '__main__.NewTest'>\n",
      "__init__called <__main__.NewTest object at 0x05021DD0>\n"
     ]
    }
   ],
   "source": [
    "# 인스턴스 객체를 생성하기 : __new__() 메서드\n",
    "# 클래스의 __init__() 메서드는 객체가 생성된 이후에 객체를 초기화하기 위해 호출되는 메서드.\n",
    "# 반면에 정적 메서드 __new__()는 객체의 생성을 담당하는 메서드로 \n",
    "# __new__() 메서드에 의해서 생성된 객체가 __init__() 메서드에 의해서 초기화 된다. 일단 객체 생성만 담당하는 게 new\n",
    "# __new__() 메서드는 object 클래스의 __new__() 메서드를 통해서 인스턴스 객체를 생성해야 한다.\n",
    "\n",
    "class NewTest:\n",
    "    def __new__(cls, *args, **kw): # cls는 newTest\n",
    "        print(\"__new__ called\", cls)\n",
    "        instance = object.__new__(cls) # 인스턴스 객체를 생성한다.\n",
    "        return instance\n",
    "    def __init__(self, *args, **kw): # self는 생성된 인스턴스 객체이다.\n",
    "        print(\"__init__called\", self)\n",
    "t = NewTest() \n",
    "# 만일 __new__() 메서드가 인스턴스 객체를 반환하면 __init__() 메서드가 호출되지만, 그렇지 않으면 __init__() 메서드는 호출되지 않음."
   ]
  },
  {
   "cell_type": "code",
   "execution_count": 8,
   "metadata": {
    "collapsed": false
   },
   "outputs": [
    {
     "name": "stdout",
     "output_type": "stream",
     "text": [
      "이유한\n",
      "[]\n"
     ]
    }
   ],
   "source": [
    "# 다음 예는 __new__() 메서드를 사용하여 멤버 값을 초기화하는 예\n",
    "# 멤버 값의 초기화는 일반적으로 __init__() 메서드에서 이루어지지만 상위 클래스의 __init__() 메서드를 명시적으로 호출하지 않으면\n",
    "# 상위 클래스의 __init__() 메서드는 실행되지 않음. __new__() 메서드를 사용하여 상위 클래스의 __init__() 메서드 호출 여부와\n",
    "# 관계없이 멤버 값의 초기화를 수행하는 예\n",
    "\n",
    "class Super:\n",
    "    def __new__(cls, *args, **kw):\n",
    "        obj = object.__new__(cls)\n",
    "        obj.data = []\n",
    "        return obj\n",
    "    \n",
    "class Sub(Super):\n",
    "    def __init__(self, name):\n",
    "        self.name = name # 자기 멤버만 초기화\n",
    "        \n",
    "s = Sub('이유한')\n",
    "print(s.name)\n",
    "print(s.data)\n",
    "\n",
    "# Sub 는 Super 를 상속 받음. Sub class s를 만들면 __init__ 메서드가 호출 되면서 name 멤버가 정해짐\n",
    "# 그런데 Super 를 상속 받는데, 따로 상위 클래스의 __init__() 메서드가 호출되지 않은 상태.\n",
    "# 그렇지만, __new__() 메서드에 obj.data 멤버 변수가 초기화 될 수 있는 문장이 있음.\n",
    "# 그래서 data 가 초기화됨. 그러니까 __new__ 메서드는 객체가 생성될 때 호출되니 저런 초기화가 가능. \n",
    "# __new__는 __init__ 이전에 객체가 생성될 때 호출됨."
   ]
  },
  {
   "cell_type": "code",
   "execution_count": 12,
   "metadata": {
    "collapsed": false
   },
   "outputs": [
    {
     "name": "stdout",
     "output_type": "stream",
     "text": [
      "True\n"
     ]
    }
   ],
   "source": [
    "# 다음은 싱글톤 (singleton) 예\n",
    "# 싱글톤이란 인스턴스 객체를 오직 하나만 생성해 내는 클래스를 의미.\n",
    "# 유일하게 하나만 시스템에 존재해야하는 객체를 정의할 때 유용.\n",
    "\n",
    "class Singleton:\n",
    "    __instance = None # 유일한 객체를 저장하기 위한 클래스 변수이다.\n",
    "    def __new__(cls, *args, **kwargs):\n",
    "        if cls.__instance is None: # 이렇게 해놓으면, None 이 아닐 때는 생성이 안되니 오직 객체는 한개.\n",
    "            # 단 하나의 케이스를 원하면, if 문으로 단 하나의 케이스 일때 동작을 하게하고, 다른 else를 두지 마라 \n",
    "            # 그러면 오직 하나만 함.\n",
    "            # 새로운 객체를 생성한다.\n",
    "            cls.__instance = object.__new__(cls)\n",
    "        return cls.__instance\n",
    "        \n",
    "class Sub(Singleton): # 싱글톤으로 상속받는다.\n",
    "    pass\n",
    "\n",
    "s1 = Sub()\n",
    "s2 = Sub()\n",
    "print(s1 is s2)"
   ]
  },
  {
   "cell_type": "code",
   "execution_count": null,
   "metadata": {
    "collapsed": true
   },
   "outputs": [],
   "source": [
    "# with 문 구현하기\n",
    "# 클래스에 _enter__() 멧드와 __exit__() 메서드가 구현되어 있으면 with 문에 사용할 수 있다.\n",
    "# 우선 with 문이 동작하는 원리를 이해해 보자. \n",
    "\n",
    "with ctrled_exec()  #1 as #5 var:\n",
    "    # 코드 블록 #6\n",
    "    \n",
    "# 이 때 ctrled_exec()는 다음과 같이 정의되어 있다고 하자.\n",
    "class ctrled__exec(): #2\n",
    "    ...\n",
    "    def __enter__(self): #3\n",
    "        # 준비 작업을 한다.\n",
    "        return thing #4 # as 키워드 다음의 변수명에 치환될 객체를 반환한다.\n",
    "    def __exit__(self, type, value, traceback): #7\n",
    "        # 정리 작업을 한다.\n",
    "# 앞서 with 문에 주어진 ctrled_exec()는 문맥 관리(context manager)객체를 돌려준다.\n",
    "# 이 객체의 생성 이후에는 바로 __enter__() 메서드가 호출되며, 이 메서드의 반환 값(thing)이 var에 치환된다.\n",
    "# 그 다음에 코드 블록이 실행되며 with 문을 빠져나올 시점에서 최종적으로는 문맥 관리 객체의 __exit__()메서드가 시행되고 \n",
    "# with 블록을 빠져나온다. \n",
    "# 물론 예외가 중간에 발생해도 __exit__()메서드는 실행.\n",
    "\n",
    "with open('test.txt') as f:\n",
    "    f.read(1)\n",
    "\n",
    "# #1 우선 open('test'.txt') 실행.\n",
    "# #2 이때 생성된 객체를 o. o 의 __enter__() 메서드를 호출한 결과를 f에 치환.\n",
    "# #3 그리고 f.read(1)를 실행\n",
    "# #4 with 문을 나오기 전에 f.__exit__()을 실행\n",
    "# #5 __exit__() 메서드는 파일을 닫고 정리하여 더 이상 입출력이 가능하지 않게 함."
   ]
  },
  {
   "cell_type": "code",
   "execution_count": 14,
   "metadata": {
    "collapsed": false
   },
   "outputs": [
    {
     "name": "stdout",
     "output_type": "stream",
     "text": [
      "<_io.TextIOWrapper name='test.txt' mode='r' encoding='cp949'>\n",
      "<_io.TextIOWrapper name='test.txt' mode='r' encoding='cp949'>\n"
     ]
    },
    {
     "ename": "ValueError",
     "evalue": "I/O operation on closed file.",
     "output_type": "error",
     "traceback": [
      "\u001b[0;31m---------------------------------------------------------------------------\u001b[0m",
      "\u001b[0;31mValueError\u001b[0m                                Traceback (most recent call last)",
      "\u001b[0;32m<ipython-input-14-e19d1251d95f>\u001b[0m in \u001b[0;36m<module>\u001b[0;34m()\u001b[0m\n\u001b[1;32m      6\u001b[0m \u001b[1;34m'A'\u001b[0m\u001b[1;33m\u001b[0m\u001b[0m\n\u001b[1;32m      7\u001b[0m \u001b[0mf\u001b[0m\u001b[1;33m.\u001b[0m\u001b[0m__exit__\u001b[0m\u001b[1;33m(\u001b[0m\u001b[1;32mNone\u001b[0m\u001b[1;33m,\u001b[0m \u001b[1;32mNone\u001b[0m\u001b[1;33m,\u001b[0m \u001b[1;32mNone\u001b[0m\u001b[1;33m)\u001b[0m\u001b[1;33m\u001b[0m\u001b[0m\n\u001b[0;32m----> 8\u001b[0;31m \u001b[0mf\u001b[0m\u001b[1;33m.\u001b[0m\u001b[0mread\u001b[0m\u001b[1;33m(\u001b[0m\u001b[1;33m)\u001b[0m\u001b[1;33m\u001b[0m\u001b[0m\n\u001b[0m",
      "\u001b[0;31mValueError\u001b[0m: I/O operation on closed file."
     ]
    }
   ],
   "source": [
    "o = open('test.txt')\n",
    "print(o)\n",
    "f = o.__enter__()\n",
    "print(f)\n",
    "f.read(1)\n",
    "'A'\n",
    "f.__exit__(None, None, None)\n",
    "f.read()"
   ]
  },
  {
   "cell_type": "code",
   "execution_count": null,
   "metadata": {
    "collapsed": true
   },
   "outputs": [],
   "source": [
    "# 임계 영역(Critical section)을 구현하는 locked 클래스의 예.\n",
    "# with 문 안에 사용된 코드 블록은 lock 객체의 임계 영역이며 배타적 실행을 보장한다.\n",
    "\n"
   ]
  }
 ],
 "metadata": {
  "kernelspec": {
   "display_name": "Python 3",
   "language": "python",
   "name": "python3"
  },
  "language_info": {
   "codemirror_mode": {
    "name": "ipython",
    "version": 3
   },
   "file_extension": ".py",
   "mimetype": "text/x-python",
   "name": "python",
   "nbconvert_exporter": "python",
   "pygments_lexer": "ipython3",
   "version": "3.5.2"
  }
 },
 "nbformat": 4,
 "nbformat_minor": 1
}
