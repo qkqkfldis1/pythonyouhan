{
 "cells": [
  {
   "cell_type": "code",
   "execution_count": 1,
   "metadata": {
    "collapsed": false
   },
   "outputs": [
    {
     "data": {
      "application/javascript": [
       "\n",
       "Jupyter.keyboard_manager.command_shortcuts.add_shortcut('r', {\n",
       "    help : 'run cell', \n",
       "    help_index : 'zz',\n",
       "    handler : function (event) {\n",
       "        \n",
       "        IPython.notebook.execute_cell();\n",
       "        return false;\n",
       "    }}\n",
       ");"
      ],
      "text/plain": [
       "<IPython.core.display.Javascript object>"
      ]
     },
     "metadata": {},
     "output_type": "display_data"
    }
   ],
   "source": [
    "%%javascript\n",
    "\n",
    "Jupyter.keyboard_manager.command_shortcuts.add_shortcut('r', {\n",
    "    help : 'run cell', \n",
    "    help_index : 'zz',\n",
    "    handler : function (event) {\n",
    "        \n",
    "        IPython.notebook.execute_cell();\n",
    "        return false;\n",
    "    }}\n",
    ");\n"
   ]
  },
  {
   "cell_type": "code",
   "execution_count": 5,
   "metadata": {
    "collapsed": false
   },
   "outputs": [
    {
     "name": "stdout",
     "output_type": "stream",
     "text": [
      "10\n",
      "__getattr__ test\n",
      "10\n"
     ]
    }
   ],
   "source": [
    "# 속성 값에 접근하기\n",
    "# __getattr__()와 _getattribute__() 메서드\n",
    "# 인스턴스 객체에 대한 일반적인 접근 방법인 obj.attr() 메서드는 getattr(obj, 'attr')로 수행된다.\n",
    "# 우선 __getattr__()과 _getattribute__() 의 차이.\n",
    "# __getattr__() 메서드는 이름 공간에 정의되지 않는 이름에 접근할 때 호출되며 이에 대해서 처리 가능.\n",
    "\n",
    "class GetAttr1(object):\n",
    "    def __getattr__(self, x):\n",
    "        print('__getattr__', x)\n",
    "        if x == 'test':\n",
    "            return 10\n",
    "        raise AttributeError('Not good')\n",
    "        \n",
    "g1 = GetAttr1()\n",
    "g1.c = 10\n",
    "print(g1.c)\n",
    "# print(g1.a) # __getattr__() 메서드가 호출된다.\n",
    "print(g1.test) # 정의되지 않았지만 준비된 이름.\n",
    "# 이 예제로 안 것. 그러니까 __getattr__() 은 객체 안, 즉 객체 이름공간 안에 정의 되지 않는 이름에 접근 하려고 하면 호출 됨."
   ]
  }
 ],
 "metadata": {
  "kernelspec": {
   "display_name": "Python 3",
   "language": "python",
   "name": "python3"
  },
  "language_info": {
   "codemirror_mode": {
    "name": "ipython",
    "version": 3
   },
   "file_extension": ".py",
   "mimetype": "text/x-python",
   "name": "python",
   "nbconvert_exporter": "python",
   "pygments_lexer": "ipython3",
   "version": "3.5.2"
  }
 },
 "nbformat": 4,
 "nbformat_minor": 1
}
