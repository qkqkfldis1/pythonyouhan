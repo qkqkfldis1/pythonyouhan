{
 "cells": [
  {
   "cell_type": "raw",
   "metadata": {},
   "source": [
    "# Ex11 풀이"
   ]
  },
  {
   "cell_type": "raw",
   "metadata": {
    "collapsed": true
   },
   "source": [
    "# Ex11_1"
   ]
  },
  {
   "cell_type": "code",
   "execution_count": 4,
   "metadata": {
    "collapsed": true
   },
   "outputs": [],
   "source": [
    "# function\n",
    "def frange(*arg):\n",
    "    realList =[]\n",
    "    if len(arg) == 1:\n",
    "        count = 0.0\n",
    "        realList.append(count)\n",
    "        while count < arg[0]:\n",
    "            count += 0.25\n",
    "            realList.append(count)\n",
    "        realList.pop()\n",
    "        return realList\n",
    "    \n",
    "    elif len(arg) == 2:\n",
    "        count = arg[0]\n",
    "        realList.append(count)\n",
    "        while count < arg[1]:\n",
    "            count += 0.25                        \n",
    "            realList.append(count)\n",
    "        realList.pop()\n",
    "        return realList\n",
    "    elif len(arg) == 3:\n",
    "        count = arg[0]\n",
    "        realList.append(count)\n",
    "        while count < arg[1]:\n",
    "            count += arg[2]\n",
    "            realList.append(count)\n",
    "        realList.pop()\n",
    "        return realList\n",
    "    else:\n",
    "        print('You gave too much arguments, idiot!!')     \n"
   ]
  },
  {
   "cell_type": "code",
   "execution_count": 3,
   "metadata": {
    "collapsed": false
   },
   "outputs": [],
   "source": [
    "a = frange(5.0)\n",
    "b = frange(1.0, 5.0)\n",
    "c = frange(1.0, 3.0, 0.1)"
   ]
  },
  {
   "cell_type": "code",
   "execution_count": 4,
   "metadata": {
    "collapsed": false,
    "scrolled": true
   },
   "outputs": [
    {
     "name": "stdout",
     "output_type": "stream",
     "text": [
      "[0.0, 0.25, 0.5, 0.75, 1.0, 1.25, 1.5, 1.75, 2.0, 2.25, 2.5, 2.75, 3.0, 3.25, 3.5, 3.75, 4.0, 4.25, 4.5, 4.75]\n",
      "[1.0, 1.25, 1.5, 1.75, 2.0, 2.25, 2.5, 2.75, 3.0, 3.25, 3.5, 3.75, 4.0, 4.25, 4.5, 4.75]\n",
      "[1.0, 1.1, 1.2000000000000002, 1.3000000000000003, 1.4000000000000004, 1.5000000000000004, 1.6000000000000005, 1.7000000000000006, 1.8000000000000007, 1.9000000000000008, 2.000000000000001, 2.100000000000001, 2.200000000000001, 2.300000000000001, 2.4000000000000012, 2.5000000000000013, 2.6000000000000014, 2.7000000000000015, 2.8000000000000016, 2.9000000000000017]\n"
     ]
    }
   ],
   "source": [
    "print(a)\n",
    "print(b)\n",
    "print(c)"
   ]
  },
  {
   "cell_type": "code",
   "execution_count": 5,
   "metadata": {
    "collapsed": true
   },
   "outputs": [],
   "source": [
    "# Ex11_2"
   ]
  },
  {
   "cell_type": "code",
   "execution_count": 6,
   "metadata": {
    "collapsed": true
   },
   "outputs": [],
   "source": [
    "# funciton\n",
    "def adder(bit1, bit2):\n",
    "    sum = bit1 + bit2\n",
    "    if sum == 2:\n",
    "        return (1,1)\n",
    "    elif sum == 1:\n",
    "        return (0,1)\n",
    "    else:\n",
    "        return (0, 0)"
   ]
  },
  {
   "cell_type": "code",
   "execution_count": 7,
   "metadata": {
    "collapsed": true
   },
   "outputs": [],
   "source": [
    "a = adder(1,1)\n",
    "b = adder(1,0)\n",
    "c = adder(0,1)\n",
    "d = adder(0,0)"
   ]
  },
  {
   "cell_type": "code",
   "execution_count": 8,
   "metadata": {
    "collapsed": false
   },
   "outputs": [
    {
     "name": "stdout",
     "output_type": "stream",
     "text": [
      "(1, 1)\n",
      "(0, 1)\n",
      "(0, 1)\n",
      "(0, 1)\n"
     ]
    }
   ],
   "source": [
    "print(a)\n",
    "print(b)\n",
    "print(c)\n",
    "print(b)"
   ]
  },
  {
   "cell_type": "code",
   "execution_count": 9,
   "metadata": {
    "collapsed": true
   },
   "outputs": [],
   "source": [
    "#Ex11_3"
   ]
  },
  {
   "cell_type": "code",
   "execution_count": 10,
   "metadata": {
    "collapsed": true
   },
   "outputs": [],
   "source": [
    "def mySum(*arg):\n",
    "    partSum = 0\n",
    "    for ele in arg:\n",
    "        partSum += ele\n",
    "    return partSum"
   ]
  },
  {
   "cell_type": "code",
   "execution_count": 11,
   "metadata": {
    "collapsed": true
   },
   "outputs": [],
   "source": [
    "a = mySum()\n",
    "b = mySum(9)\n",
    "c = mySum(1, 2, 3, 4, 5)\n",
    "d = mySum(134,324,23,5)"
   ]
  },
  {
   "cell_type": "code",
   "execution_count": 12,
   "metadata": {
    "collapsed": false
   },
   "outputs": [
    {
     "name": "stdout",
     "output_type": "stream",
     "text": [
      "0\n",
      "9\n",
      "15\n",
      "486\n"
     ]
    }
   ],
   "source": [
    "print(a)\n",
    "print(b)\n",
    "print(c)\n",
    "print(d)"
   ]
  },
  {
   "cell_type": "code",
   "execution_count": 13,
   "metadata": {
    "collapsed": true
   },
   "outputs": [],
   "source": [
    "#Ex11_4"
   ]
  },
  {
   "cell_type": "code",
   "execution_count": 14,
   "metadata": {
    "collapsed": false
   },
   "outputs": [
    {
     "name": "stdout",
     "output_type": "stream",
     "text": [
      "['a_thumb.jpg'] ['a.jpg']\n"
     ]
    }
   ],
   "source": [
    "imageList = ['a.jpg', 'a_thumb.jpg']\n",
    "def findThumb(fileList):\n",
    "    thumbList = list(filter(lambda x: 'thumb' in x, fileList))\n",
    "    otherList = list(filter(lambda x: 'thumb' not in x, fileList))\n",
    "    return thumbList, otherList\n",
    "thumb, other = findThumb(imageList)\n",
    "print(thumb, other)"
   ]
  },
  {
   "cell_type": "code",
   "execution_count": 15,
   "metadata": {
    "collapsed": true
   },
   "outputs": [],
   "source": [
    "#Ex11_5"
   ]
  },
  {
   "cell_type": "code",
   "execution_count": 16,
   "metadata": {
    "collapsed": false
   },
   "outputs": [
    {
     "name": "stdout",
     "output_type": "stream",
     "text": [
      "Iloveyou\n"
     ]
    }
   ],
   "source": [
    "str1 = 'as soon as possible'\n",
    "\n",
    "def make_new_word_with_first_character(argString):\n",
    "    stringSplited = argString.split()\n",
    "    firstWordList = map(lambda a: a[0], stringSplited)\n",
    "    stringNew = list(firstWordList)\n",
    "    return ''.join(stringNew)\n",
    "\n",
    "newWord = make_new_word_with_first_character('I like ocean very, east yark of up')\n",
    "print(newWord)"
   ]
  },
  {
   "cell_type": "code",
   "execution_count": 17,
   "metadata": {
    "collapsed": true
   },
   "outputs": [],
   "source": [
    "#Ex11_6"
   ]
  },
  {
   "cell_type": "code",
   "execution_count": 23,
   "metadata": {
    "collapsed": false
   },
   "outputs": [
    {
     "name": "stdout",
     "output_type": "stream",
     "text": [
      "[1, 4, 7] [2, 5, 8] [3, 6, 9]\n"
     ]
    }
   ],
   "source": [
    "def funcEx11(fname):\n",
    "    text = open('data.txt').read()\n",
    "    temp = text.split()\n",
    "    intTemp = []\n",
    "    for ele in temp:\n",
    "        intTemp.append(int(ele))\n",
    "        L1 = list(filter(lambda a : a % 3 == 1, intTemp))\n",
    "        L2 = list(filter(lambda a : a % 3 == 2, intTemp))\n",
    "        L3 = list(filter(lambda a : a % 3 == 0, intTemp))\n",
    "    return L1, L2, L3\n",
    "\n",
    "L1, L2, L3 = funcEx11('data.txt')\n",
    "print(L1, L2, L3)\n",
    "    "
   ]
  },
  {
   "cell_type": "code",
   "execution_count": 24,
   "metadata": {
    "collapsed": true
   },
   "outputs": [],
   "source": [
    "#Ex11_7"
   ]
  },
  {
   "cell_type": "code",
   "execution_count": 31,
   "metadata": {
    "collapsed": false
   },
   "outputs": [
    {
     "name": "stdout",
     "output_type": "stream",
     "text": [
      "720\n"
     ]
    }
   ],
   "source": [
    "def factorial(number):\n",
    "    if number == 1:\n",
    "        return 1\n",
    "    numberNew = number - 1\n",
    "    return number * factorial(numberNew)\n",
    "\n",
    "a = factorial(6)\n",
    "print(a)"
   ]
  },
  {
   "cell_type": "code",
   "execution_count": 32,
   "metadata": {
    "collapsed": true
   },
   "outputs": [],
   "source": [
    "#Ex11_7"
   ]
  },
  {
   "cell_type": "code",
   "execution_count": 79,
   "metadata": {
    "collapsed": false
   },
   "outputs": [
    {
     "name": "stdout",
     "output_type": "stream",
     "text": [
      "[5, 2, [5, [[5], 4]]]\n"
     ]
    }
   ],
   "source": [
    "def changeListMember(argList, initNum, tarNum):\n",
    "    tempList = []\n",
    "    for ele in argList:\n",
    "        if type(ele) == int:\n",
    "            if ele == initNum:\n",
    "                tempList.append(tarNum)\n",
    "            else: \n",
    "                tempList.append(ele)\n",
    "        else:\n",
    "            tempList.append(changeListMember(ele, initNum, tarNum))\n",
    "    return tempList\n",
    "\n",
    "L1 = [3, 2, [3, [[3], 4]]]\n",
    "L2 = changeListMember(L1, 3, 5)\n",
    "print(L2)"
   ]
  },
  {
   "cell_type": "code",
   "execution_count": 88,
   "metadata": {
    "collapsed": false
   },
   "outputs": [
    {
     "name": "stdout",
     "output_type": "stream",
     "text": [
      "[[5, 5, 2, [5, 2]], 2, [5, [[5], 4]], [5, [[5, 5, 5]]]]\n"
     ]
    },
    {
     "data": {
      "text/plain": [
       "enumerate"
      ]
     },
     "execution_count": 88,
     "metadata": {},
     "output_type": "execute_result"
    }
   ],
   "source": [
    "L1 = [[3, 3, 2, [3,2]], 2, [3, [[3], 4]], [3, [[3, 5, 3]]]]\n",
    "def changeListMember(argList, initNum, tarNum):\n",
    "    temp = []\n",
    "    for ele in argList:\n",
    "        if type(ele) == int:\n",
    "            if ele == initNum:\n",
    "                temp.append(tarNum)\n",
    "            else:\n",
    "                temp.append(ele)\n",
    "        elif type(ele) == list:\n",
    "            temp.append(changeListMember(ele, initNum, tarNum))\n",
    "    return temp\n",
    "\n",
    "L2 = changeListMember(L1, 3, 5)\n",
    "print(L2)\n",
    "type(enumerate(L2))\n",
    "\n",
    "# 파이썬은 객체 자체가 치환 될때에는 인수가 함수 호출한 측에 영향 주지 않음.\n",
    "# 그러나 변경 가능한 인수는 참조를 이용하여 내부 객체! 객체 자체가 아니라, 객체 내부를 변경할 때, 참조를 사용하기 때문에\n",
    "# 호출한 측에 반영\n",
    "\n",
    "# 정리하면\n",
    "# 파이썬은 기본적으로 모든 변수를 참조로 다루는데, \n",
    "# 함수 인수 같은 경우 객체 자체가 치환 될 때에는 참조된 객체에 영향 주지 않고, 새로운 참조를 가지는 객체 생성\n",
    "# 만약 변경이 가능한 인수의 객체 내부를 변경하는 경우, 참조된 인수의 내부에 직접적으로 영향 줌.(참조)"
   ]
  },
  {
   "cell_type": "code",
   "execution_count": 7,
   "metadata": {
    "collapsed": false
   },
   "outputs": [
    {
     "name": "stdout",
     "output_type": "stream",
     "text": [
      "[1, 4]\n",
      "10\n"
     ]
    }
   ],
   "source": [
    "L1 = [1, 2]\n",
    "\n",
    "def foo(tempList):\n",
    "    tempList[1]=4\n",
    "    \n",
    "foo(L1)\n",
    "\n",
    "print(L1)\n",
    "a=10\n",
    "def foo1(nu):\n",
    "    nu = 20\n",
    "\n",
    "foo1(a)\n",
    "print(a)"
   ]
  },
  {
   "cell_type": "code",
   "execution_count": 9,
   "metadata": {
    "collapsed": false
   },
   "outputs": [
    {
     "data": {
      "application/javascript": [
       "Jupyter.keyboard_manager.command_shortcuts.remove_shortcut('ctrl+Enter');\n",
       "\n",
       "\n",
       "\n"
      ],
      "text/plain": [
       "<IPython.core.display.Javascript object>"
      ]
     },
     "metadata": {},
     "output_type": "display_data"
    }
   ],
   "source": [
    "%%javascript\n",
    "Jupyter.keyboard_manager.command_shortcuts.remove_shortcut('ctrl+Enter');\n",
    "\n",
    "\n",
    "\n",
    "\n"
   ]
  }
 ],
 "metadata": {
  "kernelspec": {
   "display_name": "Python 3",
   "language": "python",
   "name": "python3"
  },
  "language_info": {
   "codemirror_mode": {
    "name": "ipython",
    "version": 3
   },
   "file_extension": ".py",
   "mimetype": "text/x-python",
   "name": "python",
   "nbconvert_exporter": "python",
   "pygments_lexer": "ipython3",
   "version": "3.5.2"
  }
 },
 "nbformat": 4,
 "nbformat_minor": 1
}
