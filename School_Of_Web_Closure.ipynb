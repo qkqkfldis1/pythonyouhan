{
 "cells": [
  {
   "cell_type": "code",
   "execution_count": 3,
   "metadata": {
    "collapsed": false
   },
   "outputs": [
    {
     "name": "stdout",
     "output_type": "stream",
     "text": [
      "Hi\n"
     ]
    }
   ],
   "source": [
    "def outer_func(): #1\n",
    "    message = 'Hi' #3\n",
    "    \n",
    "    def inner_func(): #4\n",
    "        print(message) #6\n",
    "        \n",
    "    return inner_func() #5\n",
    "\n",
    "outer_func() #2\n",
    "\n",
    "# Process\n",
    "# 1. #1 에서 정의된 함수 outer_func 를 #2에서 호출 합니다. 물론 outer_func는 어떤 인수도 받지 않습니다.\n",
    "# 2. outer_func가 실행된 후, 가장 먼저 하는 것은 message 라는 변수에 'Hi'라는 문자열을 할당 #3\n",
    "# 3. #4번에서 inner_func를 정의하고 #5번에서 inner_func를 호출하며 동시에 리턴\n",
    "# 4. #6에서 message 변수를 참조하여 출력. 여기서 message는 inner_func 안에서 정의되지는 않았지만, inner_func 안에서 사용되기\n",
    "# 때문에 프리변수라고 부름."
   ]
  },
  {
   "cell_type": "code",
   "execution_count": 4,
   "metadata": {
    "collapsed": false
   },
   "outputs": [
    {
     "data": {
      "text/plain": [
       "<function __main__.outer_func.<locals>.inner_func>"
      ]
     },
     "execution_count": 4,
     "metadata": {},
     "output_type": "execute_result"
    }
   ],
   "source": [
    "# #5를 살짝 수정하여 실행\n",
    "\n",
    "def outer_func(): #1\n",
    "    message = 'Hi' #3\n",
    "    \n",
    "    def inner_func(): #4\n",
    "        print(message) #6\n",
    "        \n",
    "    return inner_func #5 <-- ()를 지움\n",
    "\n",
    "outer_func() #2\n",
    "\n",
    "# #5에서 outer_func이 리턴할 때 iner_func함수를 실행하지않고, 함수 오브젝트를 리턴함."
   ]
  },
  {
   "cell_type": "code",
   "execution_count": 5,
   "metadata": {
    "collapsed": false,
    "scrolled": true
   },
   "outputs": [
    {
     "name": "stdout",
     "output_type": "stream",
     "text": [
      "<function outer_func.<locals>.inner_func at 0x053336A8>\n"
     ]
    }
   ],
   "source": [
    "# #2를 수정하여 실행\n",
    "\n",
    "def outer_func(): #1\n",
    "    message = 'Hi' #3\n",
    "    \n",
    "    def inner_func(): #4\n",
    "        print(message) #6\n",
    "        \n",
    "    return inner_func #5 <-- ()를 지움\n",
    "\n",
    "my_func = outer_func() #2\n",
    "print(my_func)\n",
    "\n",
    "# my_func에 inner_func 가 저장되어 있음을 알 수 있음"
   ]
  },
  {
   "cell_type": "code",
   "execution_count": 7,
   "metadata": {
    "collapsed": false
   },
   "outputs": [
    {
     "name": "stdout",
     "output_type": "stream",
     "text": [
      "Hi\n",
      "Hi\n",
      "Hi\n"
     ]
    }
   ],
   "source": [
    "def outer_func(): #1\n",
    "    message = 'Hi' #3\n",
    "\n",
    "    def inner_func(): #4\n",
    "        print(message) #6\n",
    "\n",
    "    return inner_func #5\n",
    "\n",
    "my_func = outer_func() #2\n",
    "\n",
    "my_func() #7\n",
    "my_func() #8\n",
    "my_func() #9\n",
    "\n",
    "# my_func() 를 실행하니 hi가 출력됨. 여기서 이상한건 outer_func는 붐녕히 #2에서 호출된 후 종료됨.\n",
    "# 그런데 #7, 8, 9에서 호 출된 my_func(여기서 my_func는 inner_func와 같다는 저) 함수가 outer_func 함수의 로컬 변수인 \n",
    "# message를 참조했다는 것. 이건 바로 클로저. 클로저는 함수의 프리변수 값을 어디에 저장.\n",
    "# 프리변수는 내부함수에 저장되지는 않았으나, 내부 함수아넹서 사용되는 변수."
   ]
  },
  {
   "cell_type": "code",
   "execution_count": 11,
   "metadata": {
    "collapsed": false
   },
   "outputs": [
    {
     "name": "stdout",
     "output_type": "stream",
     "text": [
      "<function outer_func.<locals>.inner_func at 0x05333C90> \n",
      "\n",
      "['__annotations__', '__call__', '__class__', '__closure__', '__code__', '__defaults__', '__delattr__', '__dict__', '__dir__', '__doc__', '__eq__', '__format__', '__ge__', '__get__', '__getattribute__', '__globals__', '__gt__', '__hash__', '__init__', '__kwdefaults__', '__le__', '__lt__', '__module__', '__name__', '__ne__', '__new__', '__qualname__', '__reduce__', '__reduce_ex__', '__repr__', '__setattr__', '__sizeof__', '__str__', '__subclasshook__'] \n",
      "\n",
      "<class 'tuple'> \n",
      "\n",
      "(<cell at 0x00D330F0: str object at 0x053343E0>,) \n",
      "\n",
      "<cell at 0x00D330F0: str object at 0x053343E0> \n",
      "\n",
      "['__class__', '__delattr__', '__dir__', '__doc__', '__eq__', '__format__', '__ge__', '__getattribute__', '__gt__', '__hash__', '__init__', '__le__', '__lt__', '__ne__', '__new__', '__reduce__', '__reduce_ex__', '__repr__', '__setattr__', '__sizeof__', '__str__', '__subclasshook__', 'cell_contents'] \n",
      "\n",
      "Hi \n",
      "\n"
     ]
    }
   ],
   "source": [
    "def outer_func():\n",
    "    message = 'Hi'\n",
    "    \n",
    "    def inner_func():\n",
    "        print(message)\n",
    "    \n",
    "    return inner_func\n",
    "\n",
    "my_func = outer_func()\n",
    "\n",
    "print(my_func, '\\n') #7\n",
    "print(dir(my_func), '\\n') #8\n",
    "print(type(my_func.__closure__), '\\n') #9\n",
    "print(my_func.__closure__, '\\n') #10\n",
    "print(my_func.__closure__[0], '\\n') #11\n",
    "print(dir(my_func.__closure__[0]), '\\n') #12\n",
    "print(my_func.__closure__[0].cell_contents, '\\n') #13\n",
    "\n",
    "#7 결과: my_func 변수에 inner_func 함수 오브젝트가 할당되어 있는 것은 위에서도 확인\n",
    "#8 결과: 클로저가 도대체 어디에 데이터를 숨기는지 dir() 명령어를 이용해 my_func 네임스페이스 확인. __closure__ 속성 있음\n",
    "#9 결과: __closure__는 무슨 타입인지 확인. 타입은 튜플\n",
    "#10 결과: 튜플에는 아이템이 들어있음.\n",
    "#11 결과: 튜플 아이템이 뭔지 보니 cell 이라는 string 문자열 오브젝트\n",
    "#12 결과: 이 cell 오브젝트는 어떤 속성을 가지고 있을까. cell_contents 가지고 있음. 속성 볼때는 dir!!\n",
    "#13 결과: cell_contents 에는 Hi 들어 있음."
   ]
  },
  {
   "cell_type": "code",
   "execution_count": 13,
   "metadata": {
    "collapsed": false
   },
   "outputs": [
    {
     "name": "stdout",
     "output_type": "stream",
     "text": [
      "<h1>Some text<h1>\n",
      "<p>Some text<p>\n"
     ]
    }
   ],
   "source": [
    "# 함수의 파라미터를 사용하여 재밌는 코드 만들 수 있음.\n",
    "def outer_func(tag):\n",
    "    text = 'Some text'\n",
    "    tag = tag\n",
    "    \n",
    "    def inner_func():\n",
    "        print('<{0}>{1}<{0}>'.format(tag, text))\n",
    "        \n",
    "    return inner_func\n",
    "\n",
    "h1_func = outer_func('h1')\n",
    "p_func = outer_func('p')\n",
    "\n",
    "h1_func()\n",
    "p_func()\n",
    "\n",
    "# outer_func 함수 하나로 h1태그와 p태그로 문자열을 감싸는 함수."
   ]
  },
  {
   "cell_type": "code",
   "execution_count": 15,
   "metadata": {
    "collapsed": false
   },
   "outputs": [
    {
     "name": "stdout",
     "output_type": "stream",
     "text": [
      "<h1h1태그의 안입니다<h1>\n",
      "<pp태그의 안입니다<p>\n"
     ]
    }
   ],
   "source": [
    "# 이번에는 태그 안의 문자열을 컨트롤 할 수 있는 함수\n",
    "def outer_func(tag):\n",
    "    tag = tag\n",
    "    \n",
    "    def inner_func(txt):\n",
    "        text = txt\n",
    "        print('<{0}{1}<{0}>'.format(tag, text))\n",
    "        \n",
    "    return inner_func\n",
    "\n",
    "h1_func = outer_func('h1') # h1 을 가지는 함수 클로저 만듦.\n",
    "p_func = outer_func('p') # p 를 가지는 함수 클로저 만듦.\n",
    "\n",
    "h1_func('h1태그의 안입니다') # h1을 가지고, 내부 함수의 인수를 전달 하고 있음.\n",
    "p_func('p태그의 안입니다') # p를 가지고, 내부 함수의 인수를 전달 하고 있음\n",
    "\n",
    "# 클로저는 이렇게 하나의 함수로 여러가지의 함수를 간단히 만들어 낼 수 있게 도와줌. \n",
    "# 기존에 만들어진 함수나 모듈을 수정하지 않고 wrapper 함수를 이용해 커스터마이징 할 수 있게 해줌."
   ]
  }
 ],
 "metadata": {
  "kernelspec": {
   "display_name": "Python 3",
   "language": "python",
   "name": "python3"
  },
  "language_info": {
   "codemirror_mode": {
    "name": "ipython",
    "version": 3
   },
   "file_extension": ".py",
   "mimetype": "text/x-python",
   "name": "python",
   "nbconvert_exporter": "python",
   "pygments_lexer": "ipython3",
   "version": "3.5.2"
  }
 },
 "nbformat": 4,
 "nbformat_minor": 1
}
