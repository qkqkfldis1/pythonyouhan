{
 "cells": [
  {
   "cell_type": "code",
   "execution_count": 1,
   "metadata": {
    "collapsed": false
   },
   "outputs": [
    {
     "data": {
      "application/javascript": [
       "\n",
       "Jupyter.keyboard_manager.command_shortcuts.add_shortcut('r', {\n",
       "    help : 'run cell', \n",
       "    help_index : 'zz',\n",
       "    handler : function (event) {\n",
       "        \n",
       "        \n",
       "        IPython.notebook.execute_cell();\n",
       "        return false;\n",
       "    }}\n",
       ");"
      ],
      "text/plain": [
       "<IPython.core.display.Javascript object>"
      ]
     },
     "metadata": {},
     "output_type": "display_data"
    }
   ],
   "source": [
    "%%javascript\n",
    "\n",
    "Jupyter.keyboard_manager.command_shortcuts.add_shortcut('r', {\n",
    "    help : 'run cell', \n",
    "    help_index : 'zz',\n",
    "    handler : function (event) {\n",
    "        \n",
    "        \n",
    "        IPython.notebook.execute_cell();\n",
    "        return false;\n",
    "    }}\n",
    ");\n"
   ]
  },
  {
   "cell_type": "code",
   "execution_count": 6,
   "metadata": {
    "collapsed": false
   },
   "outputs": [
    {
     "name": "stdout",
     "output_type": "stream",
     "text": [
      "I am here\n",
      "before..\n",
      "I am here\n",
      "after..\n"
     ]
    }
   ],
   "source": [
    "# 장식자 \n",
    "# 장식자(Decorator) 함수를 인수로 받는 함수 클로저(Function closure)\n",
    "# 함수 클로저를 간단히 말하면 함수 코드와 그 함수의 변수 참조 영역을 묶은 객체\n",
    "# 함수를 인스턴스화하는데 유용. 함수를 하나의 객체처럼, 호출후에도 살아 있도록. 죽지 않도록 하는 것.\n",
    "\n",
    "def wrapper(func): # 장식자는 함수 객체를 인수로 받는다.\n",
    "    def wrapped_func(): # 내부에서는 wrapper() 함수를 정의한다.\n",
    "        print('before..') # 원래 함수 이전에 실행되어야 할 코드\n",
    "        func() # 원래 함수\n",
    "        print('after..') # 원래 함수 이후에 실행될 코드\n",
    "    return wrapped_func # 원래 함수를 감싼 함수 클로저를 반환.\n",
    "\n",
    "def myfunc(): #원래 함수 정의\n",
    "    print('I am here')\n",
    "    \n",
    "myfunc() # 원래 함수를 실행한 결과\n",
    "myfunc = wrapper(myfunc) # 장식자에 함수를 전달\n",
    "myfunc() # 장식된 함수를 실행\n",
    "        "
   ]
  },
  {
   "cell_type": "code",
   "execution_count": 7,
   "metadata": {
    "collapsed": false
   },
   "outputs": [
    {
     "name": "stdout",
     "output_type": "stream",
     "text": [
      "before..\n",
      "I am here 2...\n",
      "after..\n"
     ]
    }
   ],
   "source": [
    "# 앞의 예에서 wrapper() 함수는 장식자이다. 함수를 인수로 받으며 함수 클로저를 반환한다.\n",
    "# myfunc = wrapper(myfunc) 로 반환된(장식된) 함수는 실행할 때마다 실제로는 wrapped_func() 함수가 실행된다. 이것이 장식자.\n",
    "# 장식자를 좀더 간단히 표현하는 방법이 있는데, @wrapper 형식의 선언을 함수 앞에 하는 것이다. 그러면 다음과 같이 변환 이뤄짐\n",
    "#@wrapper def f(): == def f(): ~ f= wrapper(f)\n",
    "\n",
    "@wrapper # 장식자\n",
    "def myfunc2(): # myfunc2 = wrapper(myfunc2)\n",
    "    print('I am here 2...')\n",
    "    \n",
    "myfunc2() # 장식된 함수 실행"
   ]
  },
  {
   "cell_type": "code",
   "execution_count": 8,
   "metadata": {
    "collapsed": false
   },
   "outputs": [
    {
     "data": {
      "text/plain": [
       "6"
      ]
     },
     "execution_count": 8,
     "metadata": {},
     "output_type": "execute_result"
    }
   ],
   "source": [
    "# 장식자를 사용하는 대표적인 예는 정적 메서드와 클래스 메서드. 다음 두 클래스는 동일한 결과 만듦.\n",
    "class D:\n",
    "    @staticmethod # add를 static method로\n",
    "    def add(x, y):\n",
    "        return x + y\n",
    "class D:\n",
    "    def add(x, y):\n",
    "        return x + y\n",
    "    add = staticmethod(add)\n",
    "    \n",
    "D.add(2, 4)\n",
    "# 장식자는 함수를 다시 한번 감싸서 호출하는 것이므로 호출에 부가적인 시간이 걸린다는 것에 유의\n",
    "# 연결된 장식자 장식자는 연결해서 사용할 수 있다.\n",
    "@A @B @C\n",
    "def f():\n",
    "    ~ 생략 ~\n",
    "# 혹은 다음과 같이 여러 줄에 걸쳐 사용할 수 있다.\n",
    "@A\n",
    "@B\n",
    "@C\n",
    "def f():\n",
    "    ~ 생략 ~\n",
    "    \n",
    "# 앞의 코드는 다음 코드와 동일\n",
    "def f():\n",
    "    ~ 생략 ~\n",
    "f = A(B(C(f)))"
   ]
  },
  {
   "cell_type": "code",
   "execution_count": 11,
   "metadata": {
    "collapsed": false
   },
   "outputs": [
    {
     "name": "stdout",
     "output_type": "stream",
     "text": [
      "<b><i>hello</i></b>\n"
     ]
    }
   ],
   "source": [
    "# 다음은 연결된 장식자의 간단한 예: 장식의 목표는 장식자에 따라서 HTML 태그가 붙어서 나오게 하는 것.\n",
    "\n",
    "def makebold(fn):\n",
    "    def wrapper():\n",
    "        return \"<b>\" + fn() + \"</b>\"\n",
    "    return wrapper\n",
    "\n",
    "def makeitalic(fn):\n",
    "    def wrapper():\n",
    "        return \"<i>\" + fn() + \"</i>\"\n",
    "    return wrapper\n",
    "\n",
    "@makebold\n",
    "@makeitalic\n",
    "def say():\n",
    "    return \"hello\"\n",
    "\n",
    "print(say()) # 출력 : <b><i>hello</i></b>"
   ]
  },
  {
   "cell_type": "code",
   "execution_count": null,
   "metadata": {
    "collapsed": true
   },
   "outputs": [],
   "source": [
    "return "
   ]
  }
 ],
 "metadata": {
  "kernelspec": {
   "display_name": "Python 3",
   "language": "python",
   "name": "python3"
  },
  "language_info": {
   "codemirror_mode": {
    "name": "ipython",
    "version": 3
   },
   "file_extension": ".py",
   "mimetype": "text/x-python",
   "name": "python",
   "nbconvert_exporter": "python",
   "pygments_lexer": "ipython3",
   "version": "3.5.2"
  }
 },
 "nbformat": 4,
 "nbformat_minor": 1
}
