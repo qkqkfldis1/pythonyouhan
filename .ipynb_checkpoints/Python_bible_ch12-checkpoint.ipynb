{
 "cells": [
  {
   "cell_type": "code",
   "execution_count": 13,
   "metadata": {
    "collapsed": false
   },
   "outputs": [
    {
     "name": "stdout",
     "output_type": "stream",
     "text": [
      "1 2\n",
      "['__class__', '__delattr__', '__dict__', '__dir__', '__doc__', '__eq__', '__format__', '__ge__', '__getattribute__', '__gt__', '__hash__', '__init__', '__le__', '__lt__', '__module__', '__ne__', '__new__', '__reduce__', '__reduce_ex__', '__repr__', '__setattr__', '__sizeof__', '__str__', '__subclasshook__', '__weakref__', 'a', 'b']\n",
      "['__class__', '__delattr__', '__dict__', '__dir__', '__doc__', '__eq__', '__format__', '__ge__', '__getattribute__', '__gt__', '__hash__', '__init__', '__le__', '__lt__', '__module__', '__ne__', '__new__', '__reduce__', '__reduce_ex__', '__repr__', '__setattr__', '__sizeof__', '__str__', '__subclasshook__', '__weakref__', 'a']\n"
     ]
    }
   ],
   "source": [
    "# 클래스는 새로운 이름 공간을 지원하는 단위\n",
    "# 이 이름공간에는 함수와 변수가 포함도리 수 있다. 이런 점에서는 모듈과 유사\n",
    "# 차이점은 모듈은 파일 단위로 이름 공간을 구성, 클래스는 클래스 이름 공간과 클래스가 생성하는\n",
    "# 인스턴스 이름 공간을 각각 갖는다.\n",
    "# 클래스 이름 공간과 인스턴스 이름 공간은 유기적인 관계로 연결되어 있음. \n",
    "# 상속 관계에 있는 클래스의 이름 공간도 유기적으로 연결. \n",
    "# 클래스를 정의하는 것은 새로운 자료형을 하나 만드는 것. 인스턴스는 이 자료형의 객체를 생성하는 것.\n",
    "\n",
    "class S1:\n",
    "    a = 1\n",
    "    \n",
    "S1.a\n",
    "S1.b = 2 # 클래스 이름 공간에 새로운 이름을 만든다\n",
    "print(S1.a,S1.b)\n",
    "print(dir(S1))\n",
    "del S1.b\n",
    "print(dir(S1))"
   ]
  },
  {
   "cell_type": "code",
   "execution_count": 20,
   "metadata": {
    "collapsed": false
   },
   "outputs": [
    {
     "name": "stdout",
     "output_type": "stream",
     "text": [
      "1\n",
      "10\n",
      "1\n",
      "300\n",
      "10\n",
      "1\n"
     ]
    }
   ],
   "source": [
    "# 클래스 인스턴스는 클래스의 실제 객체. 인스턴스 객체도 독자적인 이름 공간을 갖는다. \n",
    "# 클래스는 하나 이상의 인스턴스 객체를 생성하는 자료형\n",
    "x = S1() # S1 클래스의 인스턴스 객체 x를 생성한다.\n",
    "print(x.a) # 클래스 인스턴스 x의 이름 공간에 이름 a를 만든다.\n",
    "x.a = 10\n",
    "print(x.a) \n",
    "print(S1.a) # 클래스의 이름 공간과 인스턴스의 이름 공간은 다르다.\n",
    "\n",
    "y = S1() # 또 다른 클래스 인스턴스 생성\n",
    "y.a = 300 # 인스턴스 객체 y의 이름 공간에 이름을 만든다.\n",
    "print(y.a)\n",
    "print(x.a)\n",
    "print(S1.a)\n"
   ]
  },
  {
   "cell_type": "code",
   "execution_count": 23,
   "metadata": {
    "collapsed": false
   },
   "outputs": [
    {
     "name": "stdout",
     "output_type": "stream",
     "text": [
      "base\n",
      "['__class__', '__delattr__', '__dict__', '__dir__', '__doc__', '__eq__', '__format__', '__ge__', '__getattribute__', '__gt__', '__hash__', '__init__', '__le__', '__lt__', '__module__', '__ne__', '__new__', '__reduce__', '__reduce_ex__', '__repr__', '__setattr__', '__sizeof__', '__str__', '__subclasshook__', '__weakref__', 'f']\n"
     ]
    }
   ],
   "source": [
    "# 상속\n",
    "# 클래스는 상속(Inheritance)이 가능하다. 상속받은 클래스(Subclass, 하위 클래스)는 상속해 준 클래스(Superclass, 상위 클래스)\n",
    "# 의 모든 속성을 자동으로 물려받는다. 따라서 상속받는 클래스는 물려받는 속성 이외에 추가로 필요한 개별적은 속성만 정의하면 된다.\n",
    "\n",
    "class A:\n",
    "    def f(self):\n",
    "        print('base')\n",
    "\n",
    "class B(A): # 새로운 클래스 B는 A의 속성을 모두 상속 받는다.\n",
    "    pass\n",
    "\n",
    "b = B() # B 클래스 자료형을 가지는 새로운 인스턴스 b 생성\n",
    "b.f() # B 클래스는 A 클래스를 상속받았기 때문에, A 클래스 속성인 f 함수 사용 가능\n",
    "print(dir(A))"
   ]
  },
  {
   "cell_type": "code",
   "execution_count": 24,
   "metadata": {
    "collapsed": false
   },
   "outputs": [
    {
     "name": "stdout",
     "output_type": "stream",
     "text": [
      "add 3 called\n"
     ]
    },
    {
     "data": {
      "text/plain": [
       "3"
      ]
     },
     "execution_count": 24,
     "metadata": {},
     "output_type": "execute_result"
    }
   ],
   "source": [
    "class MyClass:\n",
    "    def __add__(self, x): # 이름 __add__는 + 연산자를 중복한다.\n",
    "        print('add {} called'.format(x))\n",
    "        return x\n",
    "a = MyClass()\n",
    "a + 3\n"
   ]
  },
  {
   "cell_type": "code",
   "execution_count": 20,
   "metadata": {
    "collapsed": false
   },
   "outputs": [
    {
     "name": "stdout",
     "output_type": "stream",
     "text": [
      "<class '__main__.Simple'>\n",
      "<__main__.Simple object at 0x0079DED0>\n"
     ]
    },
    {
     "data": {
      "text/plain": [
       "3"
      ]
     },
     "execution_count": 20,
     "metadata": {},
     "output_type": "execute_result"
    }
   ],
   "source": [
    "class Simple:\n",
    "    pass\n",
    "simple\n",
    "simple.__bases__\n",
    "s1 = Simple()\n",
    "s2 = Simple()\n",
    "print(Simple)\n",
    "print(s1)\n",
    "\n",
    "# 인스턴스 객체를 생성하는 방법은 마치 함수를 호출하듯이 클래스를 호출하면 된다.\n",
    "# 클래스를 호출하면 인스턴스 객체를 생성한 후 해당하는 참조를 반환한다.\n",
    "\n",
    "s1.stack = [] # 인스턴스 객체의 이름 공간 안에 stack을 생성한다.\n",
    "s1.stack.append(1) # 값을 추가한다.\n",
    "s1.stack.append(2)\n",
    "s1.stack.append(3)\n",
    "s1.stack # s1.stack 의 값을 출력\n",
    "s1.stack.pop() # s1.stack 에 마지막에 들어온 값을 읽어내고 삭제.\n",
    "s1.stack.pop()\n",
    "s1.stack.pop()\n",
    "s2.stack = [1, 2, 3]\n",
    "s2.stack.pop()\n",
    "\n",
    "# 동적으로 외부에서 멤버를 생성할 수 있다.\n",
    "# 사실 앞서 설명한 것처럼 클래스는 하나의 이름 공간에 불과하다!!!!!!!하나의 이름 공간에 불과!!!\n",
    "# 클래스의 인스턴스 객체 s1은 클래스 Simple 안에 내포된 독립적인 이름 공간을 가지며, \n",
    "# 이 이름 공간에서는 동적으로 이름을 설정하는 것이 가능하다."
   ]
  },
  {
   "cell_type": "code",
   "execution_count": 26,
   "metadata": {
    "collapsed": false
   },
   "outputs": [
    {
     "name": "stdout",
     "output_type": "stream",
     "text": [
      "<function MyClass.set at 0x00778D68>\n",
      "egg\n",
      "<__main__.MyClass object at 0x0079DBF0>\n",
      "<bound method MyClass.set of <__main__.MyClass object at 0x0079DBF0>>\n",
      "egg\n"
     ]
    }
   ],
   "source": [
    "# 일반 메서드의 정의와 호출.\n",
    "# 메서드를 정의하는 법은 일반 함수를 정의하는 것과 동일\n",
    "# 다른 점이 있다면 메서드의 첫 번째 인수는 반드시 해당 클래스의 인스턴스 객체여야 함.\n",
    "# 관례로 self란 이름으로 첫 번째 이름을 선언\n",
    "\n",
    "class MyClass:\n",
    "    def set(self, v): # 메서드의 첫 인수 self는 반드시 인스턴스 객체이어야 한다.\n",
    "        self.value = v\n",
    "    def get(self):\n",
    "        return self.value\n",
    "\n",
    "# 메서드를 호출하는 방법에는 두가지가 있는데, 첫 번째 방법은 클래스를 이용하여 호출하는 것\n",
    "# 이 호출을 언바운드 메서드 호출 (Unbound Method Call)\n",
    "\n",
    "c = MyClass() # 인스턴스 객체 생성\n",
    "print(MyClass.set) # 메서드 확인\n",
    "MyClass.set(c, 'egg') # 언바운드 메서드 호출\n",
    "print(MyClass.get(c))\n",
    "\n",
    "# 두번째 방법이 좀 더 일반적. 인스턴스 객체를 이용하여 호출.\n",
    "# 이렇게 하면 첫 인수로 인스턴스 객체가 자동으로 전달. 이 호출을 바운드 메서드 호출(bound method call)\n",
    "\n",
    "c = MyClass()\n",
    "print(c)\n",
    "print(c.set) # set() 메서드는 c에 바운드(연결)되어 있다. c.set의 set() 메서드는 이미 인스턴스\n",
    "#객체로 c와 연결되어 있다. 그래서 첫 번쨰 인수를 또 명시적으로 전달할 필요가 엇ㅂ다.\n",
    "c.set('egg') # 바운드 메서드 호출. MyClass.set 은 첫번째 인자로 인스턴스를 받아야 하는데,(self)\n",
    "# 인스턴스 객체로 호출하면, 자동적으로 instance 가 전달되므로 self 인수를 주지 않아도 됨.\n",
    "# 이 c.set 의 호출에서 첫 번째 인수 self 로 인스턴스 객체 c가 암시적으로 전달된다.\n",
    "print(c.get())"
   ]
  },
  {
   "cell_type": "code",
   "execution_count": null,
   "metadata": {
    "collapsed": true
   },
   "outputs": [],
   "source": [
    "# 클래스 내부에서의 메서드 호출\n",
    "# 클래스 내부에서 인스턴스 멤버나 클래스 메서드를 호출할 때는 인수 self 를 이용해야 한다.\n",
    "class MyClass:\n",
    "    def set(self, v):\n",
    "        self.value = v\n",
    "    def get(self):\n",
    "        return self.value\n",
    "    def incr(self):\n",
    "        self.value += 1\n",
    "        return self.get()\n",
    "# 만약에 self.get() 을 사용하지 않고 그냥 get() 메서드를 호출하면 클래스 내에서가 아니라, \n",
    "# 클래스 외부, 즉 모듈에서 이 함수를 찾는다. 클래스의 멤버나 메서드를 참조하려면 언제나 self를 \n",
    "# 이용하는 것을 잊지 말아야 한다."
   ]
  }
 ],
 "metadata": {
  "kernelspec": {
   "display_name": "Python 3",
   "language": "python",
   "name": "python3"
  },
  "language_info": {
   "codemirror_mode": {
    "name": "ipython",
    "version": 3
   },
   "file_extension": ".py",
   "mimetype": "text/x-python",
   "name": "python",
   "nbconvert_exporter": "python",
   "pygments_lexer": "ipython3",
   "version": "3.5.2"
  }
 },
 "nbformat": 4,
 "nbformat_minor": 1
}
