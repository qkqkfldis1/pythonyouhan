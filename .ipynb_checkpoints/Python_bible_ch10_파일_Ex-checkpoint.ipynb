{
 "cells": [
  {
   "cell_type": "code",
   "execution_count": null,
   "metadata": {
    "collapsed": true
   },
   "outputs": [],
   "source": [
    "def findHack(ip):\n",
    "    count = 0\n",
    "    f = open('Weblog.txt', 'r')\n",
    "    tempList = f.readlines()\n",
    "    for ele in tempList:\n",
    "        if ip in ele:\n",
    "            count += 1\n",
    "    print('ip exists with {} number of lines'.format(count))\n",
    "\n",
    "## sdfsdfsdf\n",
    "def countAllLog():\n",
    "    countDic = {}\n",
    "    f = open('Weblog.txt', 'r')\n",
    "    lineList = f.readlines()\n",
    "    for ele in lineList:\n",
    "        allList = ele.split(':')\n",
    "        if allList[0] in list(countDic.keys()):\n",
    "            countDic[allList[0]] += 1\n",
    "        else:\n",
    "            countDic[allList[0]] = 1\n",
    "    for (key, value) in countDic.items():\n",
    "        print('IP: {} Number: {}'.format(key, value))\n",
    "\n",
    "def countSiteLog():\n",
    "    countDic = {}\n",
    "    for line in open('weblog.txt'):\n",
    "        ip, url, tm = line.split(':')\n",
    "        if ip not in countDic:\n",
    "            countDic[ip] = []\n",
    "        countDic[ip].append(url)\n",
    "    import collections\n",
    "    for ip in countDic:\n",
    "        print('-'*60)\n",
    "        print(ip)\n",
    "        for (key, value) in collections.Counter(countDic[ip]).items():\n",
    "            print('site: {} #number: {}'.format(key, value))"
   ]
  }
 ],
 "metadata": {
  "kernelspec": {
   "display_name": "Python 3",
   "language": "python",
   "name": "python3"
  },
  "language_info": {
   "codemirror_mode": {
    "name": "ipython",
    "version": 3
   },
   "file_extension": ".py",
   "mimetype": "text/x-python",
   "name": "python",
   "nbconvert_exporter": "python",
   "pygments_lexer": "ipython3",
   "version": "3.5.2"
  }
 },
 "nbformat": 4,
 "nbformat_minor": 1
}
